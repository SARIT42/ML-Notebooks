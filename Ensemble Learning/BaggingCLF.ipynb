{
  "nbformat": 4,
  "nbformat_minor": 0,
  "metadata": {
    "colab": {
      "name": "BaggingCLF.ipynb",
      "provenance": []
    },
    "kernelspec": {
      "name": "python3",
      "display_name": "Python 3"
    },
    "language_info": {
      "name": "python"
    }
  },
  "cells": [
    {
      "cell_type": "code",
      "execution_count": 1,
      "metadata": {
        "id": "ZgJC9LjCnETg"
      },
      "outputs": [],
      "source": [
        "from sklearn.datasets import make_classification\n",
        "from sklearn.metrics import accuracy_score\n",
        "from sklearn.tree import DecisionTreeClassifier\n",
        "from sklearn.svm import SVC\n",
        "from sklearn.model_selection import train_test_split\n",
        "from sklearn.ensemble import BaggingClassifier\n",
        "import numpy as np"
      ]
    },
    {
      "cell_type": "code",
      "source": [
        "x,y=make_classification(n_samples=10000, n_features=10, n_informative=3)"
      ],
      "metadata": {
        "id": "zPXNnYrZ5xz6"
      },
      "execution_count": 2,
      "outputs": []
    },
    {
      "cell_type": "code",
      "source": [
        "x_train,x_test,y_train,y_test = train_test_split(x,y,test_size=0.2,random_state=42)"
      ],
      "metadata": {
        "id": "Sw01_YYb5-in"
      },
      "execution_count": 3,
      "outputs": []
    },
    {
      "cell_type": "code",
      "source": [
        "dt=DecisionTreeClassifier(random_state=42)\n",
        "dt.fit(x_train,y_train)\n",
        "y_pred=dt.predict(x_test)\n",
        "\n",
        "print(\"Decision Tree Accuracy : \",np.round(accuracy_score(y_test,y_pred),2))"
      ],
      "metadata": {
        "colab": {
          "base_uri": "https://localhost:8080/"
        },
        "id": "x0mYvBIq6Jgt",
        "outputId": "24f7e7c3-e153-45a6-e1ba-b8dfeb0e1a16"
      },
      "execution_count": 4,
      "outputs": [
        {
          "output_type": "stream",
          "name": "stdout",
          "text": [
            "Decision Tree Accuracy :  0.94\n"
          ]
        }
      ]
    },
    {
      "cell_type": "markdown",
      "source": [
        "## BAGGING:"
      ],
      "metadata": {
        "id": "vGjm4t2Z_I5k"
      }
    },
    {
      "cell_type": "markdown",
      "source": [
        "Bagging Using Decision Tree:\n"
      ],
      "metadata": {
        "id": "vU0-6OiP6oVg"
      }
    },
    {
      "cell_type": "code",
      "source": [
        "bag= BaggingClassifier(\n",
        "    base_estimator= DecisionTreeClassifier(),\n",
        "    n_estimators=500,\n",
        "    max_samples= 0.3,\n",
        "    bootstrap= True,\n",
        "    random_state=42\n",
        ")\n",
        "\n",
        "bag.fit(x_train,y_train)"
      ],
      "metadata": {
        "colab": {
          "base_uri": "https://localhost:8080/"
        },
        "id": "msqTFVEo6hNi",
        "outputId": "ed3e1f57-d46a-476f-eb8f-3074b3442803"
      },
      "execution_count": 5,
      "outputs": [
        {
          "output_type": "execute_result",
          "data": {
            "text/plain": [
              "BaggingClassifier(base_estimator=DecisionTreeClassifier(), max_samples=0.3,\n",
              "                  n_estimators=500, random_state=42)"
            ]
          },
          "metadata": {},
          "execution_count": 5
        }
      ]
    },
    {
      "cell_type": "code",
      "source": [
        "y_pred= bag.predict(x_test)\n",
        "\n",
        "print(\"Bagging Classifier Accuracy : \",np.round(accuracy_score(y_test,y_pred),2))"
      ],
      "metadata": {
        "colab": {
          "base_uri": "https://localhost:8080/"
        },
        "id": "k4CgH0k-7KCR",
        "outputId": "0a873cbb-6ecc-4fdb-89ce-ac5ea85b6349"
      },
      "execution_count": 6,
      "outputs": [
        {
          "output_type": "stream",
          "name": "stdout",
          "text": [
            "Bagging Classifier Accuracy :  0.96\n"
          ]
        }
      ]
    },
    {
      "cell_type": "markdown",
      "source": [
        "Bagging Using SVM:"
      ],
      "metadata": {
        "id": "nXpj2q2S8TZY"
      }
    },
    {
      "cell_type": "code",
      "source": [
        "bag = BaggingClassifier(\n",
        "    base_estimator= SVC(),\n",
        "    n_estimators=500,\n",
        "    max_samples=0.3,\n",
        "    bootstrap= True,\n",
        "    random_state= 42,\n",
        "    n_jobs=-1\n",
        ")\n",
        "\n",
        "bag.fit(x_train,y_train)"
      ],
      "metadata": {
        "colab": {
          "base_uri": "https://localhost:8080/"
        },
        "id": "-rl9JC-B7eX6",
        "outputId": "de070074-75c0-45e2-9c21-37a3fa67204a"
      },
      "execution_count": 7,
      "outputs": [
        {
          "output_type": "execute_result",
          "data": {
            "text/plain": [
              "BaggingClassifier(base_estimator=SVC(), max_samples=0.3, n_estimators=500,\n",
              "                  n_jobs=-1, random_state=42)"
            ]
          },
          "metadata": {},
          "execution_count": 7
        }
      ]
    },
    {
      "cell_type": "code",
      "source": [
        "print(\"Bagging SVM accuracy : \",np.round(accuracy_score(y_test,bag.predict(x_test)),2))"
      ],
      "metadata": {
        "colab": {
          "base_uri": "https://localhost:8080/"
        },
        "id": "7F8OOb2C93IB",
        "outputId": "b068adc9-af29-4cc7-f91f-2cff70f960b0"
      },
      "execution_count": 8,
      "outputs": [
        {
          "output_type": "stream",
          "name": "stdout",
          "text": [
            "Bagging SVM accuracy :  0.95\n"
          ]
        }
      ]
    },
    {
      "cell_type": "markdown",
      "source": [
        "## PASTING:\n"
      ],
      "metadata": {
        "id": "4IoYt5Ei-6aJ"
      }
    },
    {
      "cell_type": "code",
      "source": [
        "bag= BaggingClassifier(\n",
        "    base_estimator= DecisionTreeClassifier(),\n",
        "    n_estimators=500,\n",
        "    max_samples= 0.3,\n",
        "    bootstrap= False,\n",
        "    random_state=42,\n",
        "    n_jobs=-1,\n",
        "    verbose= 1\n",
        ")\n",
        "\n",
        "bag.fit(x_train,y_train)"
      ],
      "metadata": {
        "colab": {
          "base_uri": "https://localhost:8080/"
        },
        "id": "oVbT6BPV-JQH",
        "outputId": "795b2d11-90e8-46d4-c4c0-65a75f3ef84d"
      },
      "execution_count": 9,
      "outputs": [
        {
          "output_type": "stream",
          "name": "stderr",
          "text": [
            "[Parallel(n_jobs=2)]: Using backend LokyBackend with 2 concurrent workers.\n",
            "[Parallel(n_jobs=2)]: Done   2 out of   2 | elapsed:    9.6s remaining:    0.0s\n",
            "[Parallel(n_jobs=2)]: Done   2 out of   2 | elapsed:    9.6s finished\n"
          ]
        },
        {
          "output_type": "execute_result",
          "data": {
            "text/plain": [
              "BaggingClassifier(base_estimator=DecisionTreeClassifier(), bootstrap=False,\n",
              "                  max_samples=0.3, n_estimators=500, n_jobs=-1, random_state=42,\n",
              "                  verbose=1)"
            ]
          },
          "metadata": {},
          "execution_count": 9
        }
      ]
    },
    {
      "cell_type": "code",
      "source": [
        "y_pred= bag.predict(x_test)\n",
        "\n",
        "print(\"Pasting Accuracy : \",np.round(accuracy_score(y_test,y_pred),2))"
      ],
      "metadata": {
        "colab": {
          "base_uri": "https://localhost:8080/"
        },
        "id": "blfWduoi_mJM",
        "outputId": "4b849d46-eae8-4566-cefc-2ad75448a299"
      },
      "execution_count": 10,
      "outputs": [
        {
          "output_type": "stream",
          "name": "stderr",
          "text": [
            "[Parallel(n_jobs=2)]: Using backend LokyBackend with 2 concurrent workers.\n"
          ]
        },
        {
          "output_type": "stream",
          "name": "stdout",
          "text": [
            "Pasting Accuracy :  0.96\n"
          ]
        },
        {
          "output_type": "stream",
          "name": "stderr",
          "text": [
            "[Parallel(n_jobs=2)]: Done   2 out of   2 | elapsed:    0.5s remaining:    0.0s\n",
            "[Parallel(n_jobs=2)]: Done   2 out of   2 | elapsed:    0.5s finished\n"
          ]
        }
      ]
    },
    {
      "cell_type": "markdown",
      "source": [
        "## RANDOM SUBSPACES"
      ],
      "metadata": {
        "id": "uVMOeY9I_8TV"
      }
    },
    {
      "cell_type": "code",
      "source": [
        "bag= BaggingClassifier(\n",
        "    base_estimator= DecisionTreeClassifier(),\n",
        "    n_estimators=500,\n",
        "    max_samples= 1.0,\n",
        "    bootstrap= False,\n",
        "    max_features=0.5,\n",
        "    bootstrap_features=True,\n",
        "    random_state=42\n",
        ")\n",
        "\n",
        "bag.fit(x_train,y_train)\n"
      ],
      "metadata": {
        "colab": {
          "base_uri": "https://localhost:8080/"
        },
        "id": "MVNVKYPX_t3_",
        "outputId": "18906518-829b-474a-c20f-5beb63121db0"
      },
      "execution_count": 11,
      "outputs": [
        {
          "output_type": "execute_result",
          "data": {
            "text/plain": [
              "BaggingClassifier(base_estimator=DecisionTreeClassifier(), bootstrap=False,\n",
              "                  bootstrap_features=True, max_features=0.5, n_estimators=500,\n",
              "                  random_state=42)"
            ]
          },
          "metadata": {},
          "execution_count": 11
        }
      ]
    },
    {
      "cell_type": "code",
      "source": [
        "y_pred= bag.predict(x_test)\n",
        "\n",
        "print(\"Random Subspaces Accuracy : \",np.round(accuracy_score(y_test,y_pred),2))"
      ],
      "metadata": {
        "colab": {
          "base_uri": "https://localhost:8080/"
        },
        "id": "jIdCFk1XAWkS",
        "outputId": "0863273d-da87-4196-884f-f02b2c6142d3"
      },
      "execution_count": 12,
      "outputs": [
        {
          "output_type": "stream",
          "name": "stdout",
          "text": [
            "Random Subspaces Accuracy :  0.96\n"
          ]
        }
      ]
    },
    {
      "cell_type": "markdown",
      "source": [
        "## RANDOM PATCHES"
      ],
      "metadata": {
        "id": "_0OZlPkmApfh"
      }
    },
    {
      "cell_type": "code",
      "source": [
        "bag= BaggingClassifier(\n",
        "    base_estimator= DecisionTreeClassifier(),\n",
        "    n_estimators=500,\n",
        "    max_samples= 0.3,\n",
        "    bootstrap= True,\n",
        "    max_features=0.5,\n",
        "    bootstrap_features=True,\n",
        "    random_state=42\n",
        ")\n",
        "\n",
        "bag.fit(x_train,y_train)"
      ],
      "metadata": {
        "colab": {
          "base_uri": "https://localhost:8080/"
        },
        "id": "phgTYG2PAiNH",
        "outputId": "523d0119-0259-4705-b937-60b8f9f47597"
      },
      "execution_count": 13,
      "outputs": [
        {
          "output_type": "execute_result",
          "data": {
            "text/plain": [
              "BaggingClassifier(base_estimator=DecisionTreeClassifier(),\n",
              "                  bootstrap_features=True, max_features=0.5, max_samples=0.3,\n",
              "                  n_estimators=500, random_state=42)"
            ]
          },
          "metadata": {},
          "execution_count": 13
        }
      ]
    },
    {
      "cell_type": "code",
      "source": [
        "y_pred= bag.predict(x_test)\n",
        "\n",
        "print(\"Random Patches Accuracy : \",np.round(accuracy_score(y_test,y_pred),2))"
      ],
      "metadata": {
        "colab": {
          "base_uri": "https://localhost:8080/"
        },
        "id": "xDoDhd9VA12g",
        "outputId": "5bfa05d7-f1ad-45ef-977c-b750721edeea"
      },
      "execution_count": 14,
      "outputs": [
        {
          "output_type": "stream",
          "name": "stdout",
          "text": [
            "Random Patches Accuracy :  0.96\n"
          ]
        }
      ]
    },
    {
      "cell_type": "markdown",
      "source": [
        "###  OOB SCORE"
      ],
      "metadata": {
        "id": "H7NdoifWBMlr"
      }
    },
    {
      "cell_type": "code",
      "source": [
        "bag= BaggingClassifier(\n",
        "    base_estimator= DecisionTreeClassifier(),\n",
        "    n_estimators=500,\n",
        "    max_samples= 0.3,\n",
        "    bootstrap= True,\n",
        "    oob_score= True,\n",
        "    random_state=42\n",
        ")\n",
        "\n",
        "bag.fit(x_train,y_train)"
      ],
      "metadata": {
        "colab": {
          "base_uri": "https://localhost:8080/"
        },
        "id": "uVhc-YdNA8ve",
        "outputId": "fe2cecc1-87a7-46cf-b64f-ccd0cde2f5cf"
      },
      "execution_count": 15,
      "outputs": [
        {
          "output_type": "execute_result",
          "data": {
            "text/plain": [
              "BaggingClassifier(base_estimator=DecisionTreeClassifier(), max_samples=0.3,\n",
              "                  n_estimators=500, oob_score=True, random_state=42)"
            ]
          },
          "metadata": {},
          "execution_count": 15
        }
      ]
    },
    {
      "cell_type": "code",
      "source": [
        "bag.oob_score_"
      ],
      "metadata": {
        "colab": {
          "base_uri": "https://localhost:8080/"
        },
        "id": "Q2avzZ4SBZzW",
        "outputId": "1bcd6393-204c-48a5-9c3c-b92e0c478860"
      },
      "execution_count": 16,
      "outputs": [
        {
          "output_type": "execute_result",
          "data": {
            "text/plain": [
              "0.96175"
            ]
          },
          "metadata": {},
          "execution_count": 16
        }
      ]
    },
    {
      "cell_type": "code",
      "source": [
        "accuracy_score(y_test,bag.predict(x_test))"
      ],
      "metadata": {
        "colab": {
          "base_uri": "https://localhost:8080/"
        },
        "id": "ls9SaNhLBeYK",
        "outputId": "85071a02-fb77-4e9b-c73e-d52226995436"
      },
      "execution_count": 17,
      "outputs": [
        {
          "output_type": "execute_result",
          "data": {
            "text/plain": [
              "0.9625"
            ]
          },
          "metadata": {},
          "execution_count": 17
        }
      ]
    },
    {
      "cell_type": "markdown",
      "source": [
        "\n",
        "### GridSearchCV"
      ],
      "metadata": {
        "id": "nPhvnm4wCdDM"
      }
    },
    {
      "cell_type": "code",
      "source": [
        "from sklearn.model_selection import GridSearchCV"
      ],
      "metadata": {
        "id": "4tLOwMLxBo_m"
      },
      "execution_count": 18,
      "outputs": []
    },
    {
      "cell_type": "code",
      "source": [
        "parameters={\n",
        "    'n_estimators':[50,100,250,500],\n",
        "    'max_samples': [0.25,0.3,0.4,0.5,0.7],\n",
        "    'bootstrap' :[True,False],\n",
        "    'max_features' : [0.25,0.3,0.5,0.75,1.0]\n",
        "}"
      ],
      "metadata": {
        "id": "F9-pdnJtCqDE"
      },
      "execution_count": 19,
      "outputs": []
    },
    {
      "cell_type": "code",
      "source": [
        "grid=GridSearchCV(BaggingClassifier(n_jobs=-1),parameters,n_jobs=-1,verbose=1,cv=5)"
      ],
      "metadata": {
        "id": "4Kju8bq1Cp3N"
      },
      "execution_count": 22,
      "outputs": []
    },
    {
      "cell_type": "code",
      "source": [
        "grid.fit(x_train,y_train)"
      ],
      "metadata": {
        "colab": {
          "base_uri": "https://localhost:8080/"
        },
        "id": "Faltmot_DpJx",
        "outputId": "35888dd0-e190-49a6-b82b-2cf54563ae6e"
      },
      "execution_count": 23,
      "outputs": [
        {
          "output_type": "stream",
          "name": "stdout",
          "text": [
            "Fitting 5 folds for each of 200 candidates, totalling 1000 fits\n"
          ]
        },
        {
          "output_type": "execute_result",
          "data": {
            "text/plain": [
              "GridSearchCV(cv=5, estimator=BaggingClassifier(n_jobs=-1), n_jobs=-1,\n",
              "             param_grid={'bootstrap': [True, False],\n",
              "                         'max_features': [0.25, 0.3, 0.5, 0.75, 1.0],\n",
              "                         'max_samples': [0.25, 0.3, 0.4, 0.5, 0.7],\n",
              "                         'n_estimators': [50, 100, 250, 500]},\n",
              "             verbose=1)"
            ]
          },
          "metadata": {},
          "execution_count": 23
        }
      ]
    },
    {
      "cell_type": "code",
      "source": [
        "grid.best_params_"
      ],
      "metadata": {
        "colab": {
          "base_uri": "https://localhost:8080/"
        },
        "id": "WrOMldCdDzXn",
        "outputId": "2f7ef40a-7de9-45a1-8800-df304b8f44dc"
      },
      "execution_count": 24,
      "outputs": [
        {
          "output_type": "execute_result",
          "data": {
            "text/plain": [
              "{'bootstrap': False,\n",
              " 'max_features': 0.75,\n",
              " 'max_samples': 0.7,\n",
              " 'n_estimators': 500}"
            ]
          },
          "metadata": {},
          "execution_count": 24
        }
      ]
    },
    {
      "cell_type": "code",
      "source": [
        "grid.best_score_"
      ],
      "metadata": {
        "colab": {
          "base_uri": "https://localhost:8080/"
        },
        "id": "FVCZWIn3D21X",
        "outputId": "c2068751-a59e-442d-afe2-4b8770bcffe6"
      },
      "execution_count": 25,
      "outputs": [
        {
          "output_type": "execute_result",
          "data": {
            "text/plain": [
              "0.9643750000000001"
            ]
          },
          "metadata": {},
          "execution_count": 25
        }
      ]
    },
    {
      "cell_type": "markdown",
      "source": [
        "## BAGGING TIPS:\n"
      ],
      "metadata": {
        "id": "-ygaaVBTBvUE"
      }
    },
    {
      "cell_type": "markdown",
      "source": [
        "\n",
        "\n",
        "\n",
        "\n",
        "*   Usually, Bagging gives better results than Pasting.\n",
        "\n",
        "\n",
        "*   Good Results come around the 25% to 50% row sampling mark.\n",
        "\n",
        "\n",
        "*   Random Patches and Subspaces should be used while dealing with high dimensional data.\n",
        "\n",
        "*   To find the correct hyperparameter values use GridSearchCV/RandomSearchCV.\n",
        "\n",
        "\n",
        "\n"
      ],
      "metadata": {
        "id": "_0hk1SF4By-p"
      }
    }
  ]
}