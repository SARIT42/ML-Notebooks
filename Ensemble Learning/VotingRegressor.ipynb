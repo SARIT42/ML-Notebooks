{
  "nbformat": 4,
  "nbformat_minor": 0,
  "metadata": {
    "colab": {
      "name": "VotingRegressor.ipynb",
      "provenance": []
    },
    "kernelspec": {
      "name": "python3",
      "display_name": "Python 3"
    },
    "language_info": {
      "name": "python"
    }
  },
  "cells": [
    {
      "cell_type": "code",
      "execution_count": 1,
      "metadata": {
        "id": "FZxy-ElbgreV"
      },
      "outputs": [],
      "source": [
        "from sklearn.datasets import load_boston\n",
        "import pandas as pd\n",
        "import numpy as np"
      ]
    },
    {
      "cell_type": "code",
      "source": [
        "x,y=load_boston(return_X_y=True)"
      ],
      "metadata": {
        "id": "W1Z8EhyAh_f0"
      },
      "execution_count": null,
      "outputs": []
    },
    {
      "cell_type": "code",
      "source": [
        "x.shape , y.shape"
      ],
      "metadata": {
        "colab": {
          "base_uri": "https://localhost:8080/"
        },
        "id": "cGFeJsp4iGxV",
        "outputId": "90986d67-d2c5-4a66-bc53-b75b747a41aa"
      },
      "execution_count": 6,
      "outputs": [
        {
          "output_type": "execute_result",
          "data": {
            "text/plain": [
              "((506, 13), (506,))"
            ]
          },
          "metadata": {},
          "execution_count": 6
        }
      ]
    },
    {
      "cell_type": "code",
      "source": [
        "from sklearn.linear_model import LinearRegression\n",
        "from sklearn.tree import DecisionTreeRegressor\n",
        "from sklearn.svm import SVR \n",
        "from sklearn.model_selection import cross_val_score"
      ],
      "metadata": {
        "id": "C-2SMPtdiJ_Q"
      },
      "execution_count": 7,
      "outputs": []
    },
    {
      "cell_type": "code",
      "source": [
        "lr=LinearRegression()\n",
        "dt=DecisionTreeRegressor()\n",
        "svr=SVR()"
      ],
      "metadata": {
        "id": "QmCap-6visQr"
      },
      "execution_count": 8,
      "outputs": []
    },
    {
      "cell_type": "code",
      "source": [
        "estimators=[('lr',lr),('dt',dt),('svr',svr)]"
      ],
      "metadata": {
        "id": "nj1FbtBUi01V"
      },
      "execution_count": 9,
      "outputs": []
    },
    {
      "cell_type": "code",
      "source": [
        "for estimator in estimators:\n",
        "  scores=cross_val_score(estimator[1],x,y,cv=10,scoring='r2')\n",
        "  print(estimator[0],np.round(np.mean(scores),2))\n"
      ],
      "metadata": {
        "colab": {
          "base_uri": "https://localhost:8080/"
        },
        "id": "lm-RGKz-i-fD",
        "outputId": "19ec8a70-6708-402a-d491-1e475606b8a5"
      },
      "execution_count": 15,
      "outputs": [
        {
          "output_type": "stream",
          "name": "stdout",
          "text": [
            "lr 0.2\n",
            "dt -0.08\n",
            "svr -0.41\n"
          ]
        }
      ]
    },
    {
      "cell_type": "code",
      "source": [
        "from sklearn.ensemble import VotingRegressor\n",
        "\n",
        "vr=VotingRegressor(estimators=estimators)\n",
        "scores=cross_val_score(vr,x,y,scoring='r2',cv=10)\n",
        "print(\"Voting Regresssor\",np.round(np.mean(scores),2))"
      ],
      "metadata": {
        "colab": {
          "base_uri": "https://localhost:8080/"
        },
        "id": "-MBYTHL5jWoK",
        "outputId": "0e5fc799-5fbf-4fec-898d-fe6a79aa4a54"
      },
      "execution_count": 16,
      "outputs": [
        {
          "output_type": "stream",
          "name": "stdout",
          "text": [
            "Voting Regresssor 0.45\n"
          ]
        }
      ]
    },
    {
      "cell_type": "markdown",
      "source": [
        "Weighted Voting Regressor"
      ],
      "metadata": {
        "id": "oT3dsehgkjV0"
      }
    },
    {
      "cell_type": "code",
      "source": [
        "all=[]\n",
        "for i in range(1,5):\n",
        "  for j in range(1,5):\n",
        "    for k in range(1,5):\n",
        "      vr=VotingRegressor(estimators,weights=[i,j,k])\n",
        "      scores=cross_val_score(vr,x,y,scoring='r2',cv=10)\n",
        "      all.append(np.round(np.mean(scores),2))\n",
        "      print(\"For i={}, j={} , k={} \".format(i,j,k),np.round(np.mean(scores),2))\n",
        "      "
      ],
      "metadata": {
        "colab": {
          "base_uri": "https://localhost:8080/"
        },
        "id": "4d8DNsjqkRSU",
        "outputId": "7196dba2-2aed-4880-f650-24bc97a292e6"
      },
      "execution_count": 23,
      "outputs": [
        {
          "output_type": "stream",
          "name": "stdout",
          "text": [
            "For i=1, j=1 , k=1  0.44\n",
            "For i=1, j=1 , k=2  0.35\n",
            "For i=1, j=1 , k=3  0.27\n",
            "For i=1, j=1 , k=4  0.19\n",
            "For i=1, j=2 , k=1  0.44\n",
            "For i=1, j=2 , k=2  0.4\n",
            "For i=1, j=2 , k=3  0.34\n",
            "For i=1, j=2 , k=4  0.25\n",
            "For i=1, j=3 , k=1  0.38\n",
            "For i=1, j=3 , k=2  0.4\n",
            "For i=1, j=3 , k=3  0.3\n",
            "For i=1, j=3 , k=4  0.27\n",
            "For i=1, j=4 , k=1  0.29\n",
            "For i=1, j=4 , k=2  0.38\n",
            "For i=1, j=4 , k=3  0.35\n",
            "For i=1, j=4 , k=4  0.29\n",
            "For i=2, j=1 , k=1  0.45\n",
            "For i=2, j=1 , k=2  0.41\n",
            "For i=2, j=1 , k=3  0.34\n",
            "For i=2, j=1 , k=4  0.3\n",
            "For i=2, j=2 , k=1  0.45\n",
            "For i=2, j=2 , k=2  0.45\n",
            "For i=2, j=2 , k=3  0.4\n",
            "For i=2, j=2 , k=4  0.36\n",
            "For i=2, j=3 , k=1  0.4\n",
            "For i=2, j=3 , k=2  0.44\n",
            "For i=2, j=3 , k=3  0.37\n",
            "For i=2, j=3 , k=4  0.38\n",
            "For i=2, j=4 , k=1  0.39\n",
            "For i=2, j=4 , k=2  0.43\n",
            "For i=2, j=4 , k=3  0.42\n",
            "For i=2, j=4 , k=4  0.41\n",
            "For i=3, j=1 , k=1  0.44\n",
            "For i=3, j=1 , k=2  0.42\n",
            "For i=3, j=1 , k=3  0.4\n",
            "For i=3, j=1 , k=4  0.35\n",
            "For i=3, j=2 , k=1  0.46\n",
            "For i=3, j=2 , k=2  0.46\n",
            "For i=3, j=2 , k=3  0.44\n",
            "For i=3, j=2 , k=4  0.41\n",
            "For i=3, j=3 , k=1  0.42\n",
            "For i=3, j=3 , k=2  0.44\n",
            "For i=3, j=3 , k=3  0.39\n",
            "For i=3, j=3 , k=4  0.43\n",
            "For i=3, j=4 , k=1  0.39\n",
            "For i=3, j=4 , k=2  0.43\n",
            "For i=3, j=4 , k=3  0.43\n",
            "For i=3, j=4 , k=4  0.43\n",
            "For i=4, j=1 , k=1  0.39\n",
            "For i=4, j=1 , k=2  0.41\n",
            "For i=4, j=1 , k=3  0.39\n",
            "For i=4, j=1 , k=4  0.38\n",
            "For i=4, j=2 , k=1  0.44\n",
            "For i=4, j=2 , k=2  0.47\n",
            "For i=4, j=2 , k=3  0.44\n",
            "For i=4, j=2 , k=4  0.41\n",
            "For i=4, j=3 , k=1  0.45\n",
            "For i=4, j=3 , k=2  0.46\n",
            "For i=4, j=3 , k=3  0.41\n",
            "For i=4, j=3 , k=4  0.44\n",
            "For i=4, j=4 , k=1  0.35\n",
            "For i=4, j=4 , k=2  0.44\n",
            "For i=4, j=4 , k=3  0.4\n",
            "For i=4, j=4 , k=4  0.44\n"
          ]
        }
      ]
    },
    {
      "cell_type": "code",
      "source": [
        "max(all)"
      ],
      "metadata": {
        "colab": {
          "base_uri": "https://localhost:8080/"
        },
        "id": "q8a8y-3WlHZt",
        "outputId": "3be530d5-6ad7-4151-a848-dd01f24340f3"
      },
      "execution_count": 27,
      "outputs": [
        {
          "output_type": "execute_result",
          "data": {
            "text/plain": [
              "0.47"
            ]
          },
          "metadata": {},
          "execution_count": 27
        }
      ]
    },
    {
      "cell_type": "code",
      "source": [
        "\n"
      ],
      "metadata": {
        "id": "Wifm0YlqluMs"
      },
      "execution_count": null,
      "outputs": []
    }
  ]
}