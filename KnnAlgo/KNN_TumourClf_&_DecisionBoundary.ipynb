{
  "nbformat": 4,
  "nbformat_minor": 0,
  "metadata": {
    "colab": {
      "name": "KNN-TumourClf_&_DecisionBoundary.ipynb",
      "provenance": []
    },
    "kernelspec": {
      "name": "python3",
      "display_name": "Python 3"
    },
    "language_info": {
      "name": "python"
    }
  },
  "cells": [
    {
      "cell_type": "code",
      "execution_count": 94,
      "metadata": {
        "id": "0kKxl7Uq8MYa"
      },
      "outputs": [],
      "source": [
        "import numpy as np\n",
        "import pandas as pd\n",
        "import seaborn as sns\n",
        "import matplotlib.pyplot as plt"
      ]
    },
    {
      "cell_type": "code",
      "source": [
        "df=pd.read_csv('/content/KNNAlgorithmDataset.csv')"
      ],
      "metadata": {
        "id": "-cVXXI6iTd1H"
      },
      "execution_count": 95,
      "outputs": []
    },
    {
      "cell_type": "code",
      "source": [
        "df.head()"
      ],
      "metadata": {
        "colab": {
          "base_uri": "https://localhost:8080/",
          "height": 317
        },
        "id": "JvhSKvzxWFFa",
        "outputId": "022cf620-187d-452e-a3cb-fe3813169517"
      },
      "execution_count": 96,
      "outputs": [
        {
          "output_type": "execute_result",
          "data": {
            "text/plain": [
              "         id diagnosis  radius_mean  texture_mean  perimeter_mean  area_mean  \\\n",
              "0    842302         M        17.99         10.38          122.80     1001.0   \n",
              "1    842517         M        20.57         17.77          132.90     1326.0   \n",
              "2  84300903         M        19.69         21.25          130.00     1203.0   \n",
              "3  84348301         M        11.42         20.38           77.58      386.1   \n",
              "4  84358402         M        20.29         14.34          135.10     1297.0   \n",
              "\n",
              "   smoothness_mean  compactness_mean  concavity_mean  concave points_mean  \\\n",
              "0          0.11840           0.27760          0.3001              0.14710   \n",
              "1          0.08474           0.07864          0.0869              0.07017   \n",
              "2          0.10960           0.15990          0.1974              0.12790   \n",
              "3          0.14250           0.28390          0.2414              0.10520   \n",
              "4          0.10030           0.13280          0.1980              0.10430   \n",
              "\n",
              "   ...  texture_worst  perimeter_worst  area_worst  smoothness_worst  \\\n",
              "0  ...          17.33           184.60      2019.0            0.1622   \n",
              "1  ...          23.41           158.80      1956.0            0.1238   \n",
              "2  ...          25.53           152.50      1709.0            0.1444   \n",
              "3  ...          26.50            98.87       567.7            0.2098   \n",
              "4  ...          16.67           152.20      1575.0            0.1374   \n",
              "\n",
              "   compactness_worst  concavity_worst  concave points_worst  symmetry_worst  \\\n",
              "0             0.6656           0.7119                0.2654          0.4601   \n",
              "1             0.1866           0.2416                0.1860          0.2750   \n",
              "2             0.4245           0.4504                0.2430          0.3613   \n",
              "3             0.8663           0.6869                0.2575          0.6638   \n",
              "4             0.2050           0.4000                0.1625          0.2364   \n",
              "\n",
              "   fractal_dimension_worst  Unnamed: 32  \n",
              "0                  0.11890          NaN  \n",
              "1                  0.08902          NaN  \n",
              "2                  0.08758          NaN  \n",
              "3                  0.17300          NaN  \n",
              "4                  0.07678          NaN  \n",
              "\n",
              "[5 rows x 33 columns]"
            ],
            "text/html": [
              "\n",
              "  <div id=\"df-543b5b6c-5c14-4c87-b562-0ffe5313080f\">\n",
              "    <div class=\"colab-df-container\">\n",
              "      <div>\n",
              "<style scoped>\n",
              "    .dataframe tbody tr th:only-of-type {\n",
              "        vertical-align: middle;\n",
              "    }\n",
              "\n",
              "    .dataframe tbody tr th {\n",
              "        vertical-align: top;\n",
              "    }\n",
              "\n",
              "    .dataframe thead th {\n",
              "        text-align: right;\n",
              "    }\n",
              "</style>\n",
              "<table border=\"1\" class=\"dataframe\">\n",
              "  <thead>\n",
              "    <tr style=\"text-align: right;\">\n",
              "      <th></th>\n",
              "      <th>id</th>\n",
              "      <th>diagnosis</th>\n",
              "      <th>radius_mean</th>\n",
              "      <th>texture_mean</th>\n",
              "      <th>perimeter_mean</th>\n",
              "      <th>area_mean</th>\n",
              "      <th>smoothness_mean</th>\n",
              "      <th>compactness_mean</th>\n",
              "      <th>concavity_mean</th>\n",
              "      <th>concave points_mean</th>\n",
              "      <th>...</th>\n",
              "      <th>texture_worst</th>\n",
              "      <th>perimeter_worst</th>\n",
              "      <th>area_worst</th>\n",
              "      <th>smoothness_worst</th>\n",
              "      <th>compactness_worst</th>\n",
              "      <th>concavity_worst</th>\n",
              "      <th>concave points_worst</th>\n",
              "      <th>symmetry_worst</th>\n",
              "      <th>fractal_dimension_worst</th>\n",
              "      <th>Unnamed: 32</th>\n",
              "    </tr>\n",
              "  </thead>\n",
              "  <tbody>\n",
              "    <tr>\n",
              "      <th>0</th>\n",
              "      <td>842302</td>\n",
              "      <td>M</td>\n",
              "      <td>17.99</td>\n",
              "      <td>10.38</td>\n",
              "      <td>122.80</td>\n",
              "      <td>1001.0</td>\n",
              "      <td>0.11840</td>\n",
              "      <td>0.27760</td>\n",
              "      <td>0.3001</td>\n",
              "      <td>0.14710</td>\n",
              "      <td>...</td>\n",
              "      <td>17.33</td>\n",
              "      <td>184.60</td>\n",
              "      <td>2019.0</td>\n",
              "      <td>0.1622</td>\n",
              "      <td>0.6656</td>\n",
              "      <td>0.7119</td>\n",
              "      <td>0.2654</td>\n",
              "      <td>0.4601</td>\n",
              "      <td>0.11890</td>\n",
              "      <td>NaN</td>\n",
              "    </tr>\n",
              "    <tr>\n",
              "      <th>1</th>\n",
              "      <td>842517</td>\n",
              "      <td>M</td>\n",
              "      <td>20.57</td>\n",
              "      <td>17.77</td>\n",
              "      <td>132.90</td>\n",
              "      <td>1326.0</td>\n",
              "      <td>0.08474</td>\n",
              "      <td>0.07864</td>\n",
              "      <td>0.0869</td>\n",
              "      <td>0.07017</td>\n",
              "      <td>...</td>\n",
              "      <td>23.41</td>\n",
              "      <td>158.80</td>\n",
              "      <td>1956.0</td>\n",
              "      <td>0.1238</td>\n",
              "      <td>0.1866</td>\n",
              "      <td>0.2416</td>\n",
              "      <td>0.1860</td>\n",
              "      <td>0.2750</td>\n",
              "      <td>0.08902</td>\n",
              "      <td>NaN</td>\n",
              "    </tr>\n",
              "    <tr>\n",
              "      <th>2</th>\n",
              "      <td>84300903</td>\n",
              "      <td>M</td>\n",
              "      <td>19.69</td>\n",
              "      <td>21.25</td>\n",
              "      <td>130.00</td>\n",
              "      <td>1203.0</td>\n",
              "      <td>0.10960</td>\n",
              "      <td>0.15990</td>\n",
              "      <td>0.1974</td>\n",
              "      <td>0.12790</td>\n",
              "      <td>...</td>\n",
              "      <td>25.53</td>\n",
              "      <td>152.50</td>\n",
              "      <td>1709.0</td>\n",
              "      <td>0.1444</td>\n",
              "      <td>0.4245</td>\n",
              "      <td>0.4504</td>\n",
              "      <td>0.2430</td>\n",
              "      <td>0.3613</td>\n",
              "      <td>0.08758</td>\n",
              "      <td>NaN</td>\n",
              "    </tr>\n",
              "    <tr>\n",
              "      <th>3</th>\n",
              "      <td>84348301</td>\n",
              "      <td>M</td>\n",
              "      <td>11.42</td>\n",
              "      <td>20.38</td>\n",
              "      <td>77.58</td>\n",
              "      <td>386.1</td>\n",
              "      <td>0.14250</td>\n",
              "      <td>0.28390</td>\n",
              "      <td>0.2414</td>\n",
              "      <td>0.10520</td>\n",
              "      <td>...</td>\n",
              "      <td>26.50</td>\n",
              "      <td>98.87</td>\n",
              "      <td>567.7</td>\n",
              "      <td>0.2098</td>\n",
              "      <td>0.8663</td>\n",
              "      <td>0.6869</td>\n",
              "      <td>0.2575</td>\n",
              "      <td>0.6638</td>\n",
              "      <td>0.17300</td>\n",
              "      <td>NaN</td>\n",
              "    </tr>\n",
              "    <tr>\n",
              "      <th>4</th>\n",
              "      <td>84358402</td>\n",
              "      <td>M</td>\n",
              "      <td>20.29</td>\n",
              "      <td>14.34</td>\n",
              "      <td>135.10</td>\n",
              "      <td>1297.0</td>\n",
              "      <td>0.10030</td>\n",
              "      <td>0.13280</td>\n",
              "      <td>0.1980</td>\n",
              "      <td>0.10430</td>\n",
              "      <td>...</td>\n",
              "      <td>16.67</td>\n",
              "      <td>152.20</td>\n",
              "      <td>1575.0</td>\n",
              "      <td>0.1374</td>\n",
              "      <td>0.2050</td>\n",
              "      <td>0.4000</td>\n",
              "      <td>0.1625</td>\n",
              "      <td>0.2364</td>\n",
              "      <td>0.07678</td>\n",
              "      <td>NaN</td>\n",
              "    </tr>\n",
              "  </tbody>\n",
              "</table>\n",
              "<p>5 rows × 33 columns</p>\n",
              "</div>\n",
              "      <button class=\"colab-df-convert\" onclick=\"convertToInteractive('df-543b5b6c-5c14-4c87-b562-0ffe5313080f')\"\n",
              "              title=\"Convert this dataframe to an interactive table.\"\n",
              "              style=\"display:none;\">\n",
              "        \n",
              "  <svg xmlns=\"http://www.w3.org/2000/svg\" height=\"24px\"viewBox=\"0 0 24 24\"\n",
              "       width=\"24px\">\n",
              "    <path d=\"M0 0h24v24H0V0z\" fill=\"none\"/>\n",
              "    <path d=\"M18.56 5.44l.94 2.06.94-2.06 2.06-.94-2.06-.94-.94-2.06-.94 2.06-2.06.94zm-11 1L8.5 8.5l.94-2.06 2.06-.94-2.06-.94L8.5 2.5l-.94 2.06-2.06.94zm10 10l.94 2.06.94-2.06 2.06-.94-2.06-.94-.94-2.06-.94 2.06-2.06.94z\"/><path d=\"M17.41 7.96l-1.37-1.37c-.4-.4-.92-.59-1.43-.59-.52 0-1.04.2-1.43.59L10.3 9.45l-7.72 7.72c-.78.78-.78 2.05 0 2.83L4 21.41c.39.39.9.59 1.41.59.51 0 1.02-.2 1.41-.59l7.78-7.78 2.81-2.81c.8-.78.8-2.07 0-2.86zM5.41 20L4 18.59l7.72-7.72 1.47 1.35L5.41 20z\"/>\n",
              "  </svg>\n",
              "      </button>\n",
              "      \n",
              "  <style>\n",
              "    .colab-df-container {\n",
              "      display:flex;\n",
              "      flex-wrap:wrap;\n",
              "      gap: 12px;\n",
              "    }\n",
              "\n",
              "    .colab-df-convert {\n",
              "      background-color: #E8F0FE;\n",
              "      border: none;\n",
              "      border-radius: 50%;\n",
              "      cursor: pointer;\n",
              "      display: none;\n",
              "      fill: #1967D2;\n",
              "      height: 32px;\n",
              "      padding: 0 0 0 0;\n",
              "      width: 32px;\n",
              "    }\n",
              "\n",
              "    .colab-df-convert:hover {\n",
              "      background-color: #E2EBFA;\n",
              "      box-shadow: 0px 1px 2px rgba(60, 64, 67, 0.3), 0px 1px 3px 1px rgba(60, 64, 67, 0.15);\n",
              "      fill: #174EA6;\n",
              "    }\n",
              "\n",
              "    [theme=dark] .colab-df-convert {\n",
              "      background-color: #3B4455;\n",
              "      fill: #D2E3FC;\n",
              "    }\n",
              "\n",
              "    [theme=dark] .colab-df-convert:hover {\n",
              "      background-color: #434B5C;\n",
              "      box-shadow: 0px 1px 3px 1px rgba(0, 0, 0, 0.15);\n",
              "      filter: drop-shadow(0px 1px 2px rgba(0, 0, 0, 0.3));\n",
              "      fill: #FFFFFF;\n",
              "    }\n",
              "  </style>\n",
              "\n",
              "      <script>\n",
              "        const buttonEl =\n",
              "          document.querySelector('#df-543b5b6c-5c14-4c87-b562-0ffe5313080f button.colab-df-convert');\n",
              "        buttonEl.style.display =\n",
              "          google.colab.kernel.accessAllowed ? 'block' : 'none';\n",
              "\n",
              "        async function convertToInteractive(key) {\n",
              "          const element = document.querySelector('#df-543b5b6c-5c14-4c87-b562-0ffe5313080f');\n",
              "          const dataTable =\n",
              "            await google.colab.kernel.invokeFunction('convertToInteractive',\n",
              "                                                     [key], {});\n",
              "          if (!dataTable) return;\n",
              "\n",
              "          const docLinkHtml = 'Like what you see? Visit the ' +\n",
              "            '<a target=\"_blank\" href=https://colab.research.google.com/notebooks/data_table.ipynb>data table notebook</a>'\n",
              "            + ' to learn more about interactive tables.';\n",
              "          element.innerHTML = '';\n",
              "          dataTable['output_type'] = 'display_data';\n",
              "          await google.colab.output.renderOutput(dataTable, element);\n",
              "          const docLink = document.createElement('div');\n",
              "          docLink.innerHTML = docLinkHtml;\n",
              "          element.appendChild(docLink);\n",
              "        }\n",
              "      </script>\n",
              "    </div>\n",
              "  </div>\n",
              "  "
            ]
          },
          "metadata": {},
          "execution_count": 96
        }
      ]
    },
    {
      "cell_type": "code",
      "source": [
        "df.info()"
      ],
      "metadata": {
        "colab": {
          "base_uri": "https://localhost:8080/"
        },
        "id": "jexXgKgEWgvD",
        "outputId": "3da3717f-6e14-436d-d849-23af8692b315"
      },
      "execution_count": 97,
      "outputs": [
        {
          "output_type": "stream",
          "name": "stdout",
          "text": [
            "<class 'pandas.core.frame.DataFrame'>\n",
            "RangeIndex: 569 entries, 0 to 568\n",
            "Data columns (total 33 columns):\n",
            " #   Column                   Non-Null Count  Dtype  \n",
            "---  ------                   --------------  -----  \n",
            " 0   id                       569 non-null    int64  \n",
            " 1   diagnosis                569 non-null    object \n",
            " 2   radius_mean              569 non-null    float64\n",
            " 3   texture_mean             569 non-null    float64\n",
            " 4   perimeter_mean           569 non-null    float64\n",
            " 5   area_mean                569 non-null    float64\n",
            " 6   smoothness_mean          569 non-null    float64\n",
            " 7   compactness_mean         569 non-null    float64\n",
            " 8   concavity_mean           569 non-null    float64\n",
            " 9   concave points_mean      569 non-null    float64\n",
            " 10  symmetry_mean            569 non-null    float64\n",
            " 11  fractal_dimension_mean   569 non-null    float64\n",
            " 12  radius_se                569 non-null    float64\n",
            " 13  texture_se               569 non-null    float64\n",
            " 14  perimeter_se             569 non-null    float64\n",
            " 15  area_se                  569 non-null    float64\n",
            " 16  smoothness_se            569 non-null    float64\n",
            " 17  compactness_se           569 non-null    float64\n",
            " 18  concavity_se             569 non-null    float64\n",
            " 19  concave points_se        569 non-null    float64\n",
            " 20  symmetry_se              569 non-null    float64\n",
            " 21  fractal_dimension_se     569 non-null    float64\n",
            " 22  radius_worst             569 non-null    float64\n",
            " 23  texture_worst            569 non-null    float64\n",
            " 24  perimeter_worst          569 non-null    float64\n",
            " 25  area_worst               569 non-null    float64\n",
            " 26  smoothness_worst         569 non-null    float64\n",
            " 27  compactness_worst        569 non-null    float64\n",
            " 28  concavity_worst          569 non-null    float64\n",
            " 29  concave points_worst     569 non-null    float64\n",
            " 30  symmetry_worst           569 non-null    float64\n",
            " 31  fractal_dimension_worst  569 non-null    float64\n",
            " 32  Unnamed: 32              0 non-null      float64\n",
            "dtypes: float64(31), int64(1), object(1)\n",
            "memory usage: 146.8+ KB\n"
          ]
        }
      ]
    },
    {
      "cell_type": "code",
      "source": [
        "df=df.drop(columns=['Unnamed: 32','id'])"
      ],
      "metadata": {
        "id": "5yxQ2hw1WOCO"
      },
      "execution_count": 98,
      "outputs": []
    },
    {
      "cell_type": "code",
      "source": [
        "sns.countplot(df['diagnosis']);"
      ],
      "metadata": {
        "colab": {
          "base_uri": "https://localhost:8080/",
          "height": 334
        },
        "id": "eIdClXZPWqZ8",
        "outputId": "ace435ce-4e83-4d4d-d36d-92489bfa2e56"
      },
      "execution_count": 99,
      "outputs": [
        {
          "output_type": "stream",
          "name": "stderr",
          "text": [
            "/usr/local/lib/python3.7/dist-packages/seaborn/_decorators.py:43: FutureWarning: Pass the following variable as a keyword arg: x. From version 0.12, the only valid positional argument will be `data`, and passing other arguments without an explicit keyword will result in an error or misinterpretation.\n",
            "  FutureWarning\n"
          ]
        },
        {
          "output_type": "display_data",
          "data": {
            "text/plain": [
              "<Figure size 432x288 with 1 Axes>"
            ],
            "image/png": "[encoded data removed]"
          },
          "metadata": {
            "needs_background": "light"
          }
        }
      ]
    },
    {
      "cell_type": "code",
      "source": [
        "df=pd.get_dummies(df,{'diagnosis'})\n",
        "df.tail()"
      ],
      "metadata": {
        "colab": {
          "base_uri": "https://localhost:8080/",
          "height": 317
        },
        "id": "WvoiSO_vW3QK",
        "outputId": "25cf10bc-421e-465f-8fe0-972cccfd83b3"
      },
      "execution_count": 100,
      "outputs": [
        {
          "output_type": "execute_result",
          "data": {
            "text/plain": [
              "     radius_mean  texture_mean  perimeter_mean  area_mean  smoothness_mean  \\\n",
              "564        21.56         22.39          142.00     1479.0          0.11100   \n",
              "565        20.13         28.25          131.20     1261.0          0.09780   \n",
              "566        16.60         28.08          108.30      858.1          0.08455   \n",
              "567        20.60         29.33          140.10     1265.0          0.11780   \n",
              "568         7.76         24.54           47.92      181.0          0.05263   \n",
              "\n",
              "     compactness_mean  concavity_mean  concave points_mean  symmetry_mean  \\\n",
              "564           0.11590         0.24390              0.13890         0.1726   \n",
              "565           0.10340         0.14400              0.09791         0.1752   \n",
              "566           0.10230         0.09251              0.05302         0.1590   \n",
              "567           0.27700         0.35140              0.15200         0.2397   \n",
              "568           0.04362         0.00000              0.00000         0.1587   \n",
              "\n",
              "     fractal_dimension_mean  ...  perimeter_worst  area_worst  \\\n",
              "564                 0.05623  ...           166.10      2027.0   \n",
              "565                 0.05533  ...           155.00      1731.0   \n",
              "566                 0.05648  ...           126.70      1124.0   \n",
              "567                 0.07016  ...           184.60      1821.0   \n",
              "568                 0.05884  ...            59.16       268.6   \n",
              "\n",
              "     smoothness_worst  compactness_worst  concavity_worst  \\\n",
              "564           0.14100            0.21130           0.4107   \n",
              "565           0.11660            0.19220           0.3215   \n",
              "566           0.11390            0.30940           0.3403   \n",
              "567           0.16500            0.86810           0.9387   \n",
              "568           0.08996            0.06444           0.0000   \n",
              "\n",
              "     concave points_worst  symmetry_worst  fractal_dimension_worst  \\\n",
              "564                0.2216          0.2060                  0.07115   \n",
              "565                0.1628          0.2572                  0.06637   \n",
              "566                0.1418          0.2218                  0.07820   \n",
              "567                0.2650          0.4087                  0.12400   \n",
              "568                0.0000          0.2871                  0.07039   \n",
              "\n",
              "     diagnosis_B  diagnosis_M  \n",
              "564            0            1  \n",
              "565            0            1  \n",
              "566            0            1  \n",
              "567            0            1  \n",
              "568            1            0  \n",
              "\n",
              "[5 rows x 32 columns]"
            ],
            "text/html": [
              "\n",
              "  <div id=\"df-0b70c9ef-a0dc-4751-a64f-f103163e7153\">\n",
              "    <div class=\"colab-df-container\">\n",
              "      <div>\n",
              "<style scoped>\n",
              "    .dataframe tbody tr th:only-of-type {\n",
              "        vertical-align: middle;\n",
              "    }\n",
              "\n",
              "    .dataframe tbody tr th {\n",
              "        vertical-align: top;\n",
              "    }\n",
              "\n",
              "    .dataframe thead th {\n",
              "        text-align: right;\n",
              "    }\n",
              "</style>\n",
              "<table border=\"1\" class=\"dataframe\">\n",
              "  <thead>\n",
              "    <tr style=\"text-align: right;\">\n",
              "      <th></th>\n",
              "      <th>radius_mean</th>\n",
              "      <th>texture_mean</th>\n",
              "      <th>perimeter_mean</th>\n",
              "      <th>area_mean</th>\n",
              "      <th>smoothness_mean</th>\n",
              "      <th>compactness_mean</th>\n",
              "      <th>concavity_mean</th>\n",
              "      <th>concave points_mean</th>\n",
              "      <th>symmetry_mean</th>\n",
              "      <th>fractal_dimension_mean</th>\n",
              "      <th>...</th>\n",
              "      <th>perimeter_worst</th>\n",
              "      <th>area_worst</th>\n",
              "      <th>smoothness_worst</th>\n",
              "      <th>compactness_worst</th>\n",
              "      <th>concavity_worst</th>\n",
              "      <th>concave points_worst</th>\n",
              "      <th>symmetry_worst</th>\n",
              "      <th>fractal_dimension_worst</th>\n",
              "      <th>diagnosis_B</th>\n",
              "      <th>diagnosis_M</th>\n",
              "    </tr>\n",
              "  </thead>\n",
              "  <tbody>\n",
              "    <tr>\n",
              "      <th>564</th>\n",
              "      <td>21.56</td>\n",
              "      <td>22.39</td>\n",
              "      <td>142.00</td>\n",
              "      <td>1479.0</td>\n",
              "      <td>0.11100</td>\n",
              "      <td>0.11590</td>\n",
              "      <td>0.24390</td>\n",
              "      <td>0.13890</td>\n",
              "      <td>0.1726</td>\n",
              "      <td>0.05623</td>\n",
              "      <td>...</td>\n",
              "      <td>166.10</td>\n",
              "      <td>2027.0</td>\n",
              "      <td>0.14100</td>\n",
              "      <td>0.21130</td>\n",
              "      <td>0.4107</td>\n",
              "      <td>0.2216</td>\n",
              "      <td>0.2060</td>\n",
              "      <td>0.07115</td>\n",
              "      <td>0</td>\n",
              "      <td>1</td>\n",
              "    </tr>\n",
              "    <tr>\n",
              "      <th>565</th>\n",
              "      <td>20.13</td>\n",
              "      <td>28.25</td>\n",
              "      <td>131.20</td>\n",
              "      <td>1261.0</td>\n",
              "      <td>0.09780</td>\n",
              "      <td>0.10340</td>\n",
              "      <td>0.14400</td>\n",
              "      <td>0.09791</td>\n",
              "      <td>0.1752</td>\n",
              "      <td>0.05533</td>\n",
              "      <td>...</td>\n",
              "      <td>155.00</td>\n",
              "      <td>1731.0</td>\n",
              "      <td>0.11660</td>\n",
              "      <td>0.19220</td>\n",
              "      <td>0.3215</td>\n",
              "      <td>0.1628</td>\n",
              "      <td>0.2572</td>\n",
              "      <td>0.06637</td>\n",
              "      <td>0</td>\n",
              "      <td>1</td>\n",
              "    </tr>\n",
              "    <tr>\n",
              "      <th>566</th>\n",
              "      <td>16.60</td>\n",
              "      <td>28.08</td>\n",
              "      <td>108.30</td>\n",
              "      <td>858.1</td>\n",
              "      <td>0.08455</td>\n",
              "      <td>0.10230</td>\n",
              "      <td>0.09251</td>\n",
              "      <td>0.05302</td>\n",
              "      <td>0.1590</td>\n",
              "      <td>0.05648</td>\n",
              "      <td>...</td>\n",
              "      <td>126.70</td>\n",
              "      <td>1124.0</td>\n",
              "      <td>0.11390</td>\n",
              "      <td>0.30940</td>\n",
              "      <td>0.3403</td>\n",
              "      <td>0.1418</td>\n",
              "      <td>0.2218</td>\n",
              "      <td>0.07820</td>\n",
              "      <td>0</td>\n",
              "      <td>1</td>\n",
              "    </tr>\n",
              "    <tr>\n",
              "      <th>567</th>\n",
              "      <td>20.60</td>\n",
              "      <td>29.33</td>\n",
              "      <td>140.10</td>\n",
              "      <td>1265.0</td>\n",
              "      <td>0.11780</td>\n",
              "      <td>0.27700</td>\n",
              "      <td>0.35140</td>\n",
              "      <td>0.15200</td>\n",
              "      <td>0.2397</td>\n",
              "      <td>0.07016</td>\n",
              "      <td>...</td>\n",
              "      <td>184.60</td>\n",
              "      <td>1821.0</td>\n",
              "      <td>0.16500</td>\n",
              "      <td>0.86810</td>\n",
              "      <td>0.9387</td>\n",
              "      <td>0.2650</td>\n",
              "      <td>0.4087</td>\n",
              "      <td>0.12400</td>\n",
              "      <td>0</td>\n",
              "      <td>1</td>\n",
              "    </tr>\n",
              "    <tr>\n",
              "      <th>568</th>\n",
              "      <td>7.76</td>\n",
              "      <td>24.54</td>\n",
              "      <td>47.92</td>\n",
              "      <td>181.0</td>\n",
              "      <td>0.05263</td>\n",
              "      <td>0.04362</td>\n",
              "      <td>0.00000</td>\n",
              "      <td>0.00000</td>\n",
              "      <td>0.1587</td>\n",
              "      <td>0.05884</td>\n",
              "      <td>...</td>\n",
              "      <td>59.16</td>\n",
              "      <td>268.6</td>\n",
              "      <td>0.08996</td>\n",
              "      <td>0.06444</td>\n",
              "      <td>0.0000</td>\n",
              "      <td>0.0000</td>\n",
              "      <td>0.2871</td>\n",
              "      <td>0.07039</td>\n",
              "      <td>1</td>\n",
              "      <td>0</td>\n",
              "    </tr>\n",
              "  </tbody>\n",
              "</table>\n",
              "<p>5 rows × 32 columns</p>\n",
              "</div>\n",
              "      <button class=\"colab-df-convert\" onclick=\"convertToInteractive('df-0b70c9ef-a0dc-4751-a64f-f103163e7153')\"\n",
              "              title=\"Convert this dataframe to an interactive table.\"\n",
              "              style=\"display:none;\">\n",
              "        \n",
              "  <svg xmlns=\"http://www.w3.org/2000/svg\" height=\"24px\"viewBox=\"0 0 24 24\"\n",
              "       width=\"24px\">\n",
              "    <path d=\"M0 0h24v24H0V0z\" fill=\"none\"/>\n",
              "    <path d=\"M18.56 5.44l.94 2.06.94-2.06 2.06-.94-2.06-.94-.94-2.06-.94 2.06-2.06.94zm-11 1L8.5 8.5l.94-2.06 2.06-.94-2.06-.94L8.5 2.5l-.94 2.06-2.06.94zm10 10l.94 2.06.94-2.06 2.06-.94-2.06-.94-.94-2.06-.94 2.06-2.06.94z\"/><path d=\"M17.41 7.96l-1.37-1.37c-.4-.4-.92-.59-1.43-.59-.52 0-1.04.2-1.43.59L10.3 9.45l-7.72 7.72c-.78.78-.78 2.05 0 2.83L4 21.41c.39.39.9.59 1.41.59.51 0 1.02-.2 1.41-.59l7.78-7.78 2.81-2.81c.8-.78.8-2.07 0-2.86zM5.41 20L4 18.59l7.72-7.72 1.47 1.35L5.41 20z\"/>\n",
              "  </svg>\n",
              "      </button>\n",
              "      \n",
              "  <style>\n",
              "    .colab-df-container {\n",
              "      display:flex;\n",
              "      flex-wrap:wrap;\n",
              "      gap: 12px;\n",
              "    }\n",
              "\n",
              "    .colab-df-convert {\n",
              "      background-color: #E8F0FE;\n",
              "      border: none;\n",
              "      border-radius: 50%;\n",
              "      cursor: pointer;\n",
              "      display: none;\n",
              "      fill: #1967D2;\n",
              "      height: 32px;\n",
              "      padding: 0 0 0 0;\n",
              "      width: 32px;\n",
              "    }\n",
              "\n",
              "    .colab-df-convert:hover {\n",
              "      background-color: #E2EBFA;\n",
              "      box-shadow: 0px 1px 2px rgba(60, 64, 67, 0.3), 0px 1px 3px 1px rgba(60, 64, 67, 0.15);\n",
              "      fill: #174EA6;\n",
              "    }\n",
              "\n",
              "    [theme=dark] .colab-df-convert {\n",
              "      background-color: #3B4455;\n",
              "      fill: #D2E3FC;\n",
              "    }\n",
              "\n",
              "    [theme=dark] .colab-df-convert:hover {\n",
              "      background-color: #434B5C;\n",
              "      box-shadow: 0px 1px 3px 1px rgba(0, 0, 0, 0.15);\n",
              "      filter: drop-shadow(0px 1px 2px rgba(0, 0, 0, 0.3));\n",
              "      fill: #FFFFFF;\n",
              "    }\n",
              "  </style>\n",
              "\n",
              "      <script>\n",
              "        const buttonEl =\n",
              "          document.querySelector('#df-0b70c9ef-a0dc-4751-a64f-f103163e7153 button.colab-df-convert');\n",
              "        buttonEl.style.display =\n",
              "          google.colab.kernel.accessAllowed ? 'block' : 'none';\n",
              "\n",
              "        async function convertToInteractive(key) {\n",
              "          const element = document.querySelector('#df-0b70c9ef-a0dc-4751-a64f-f103163e7153');\n",
              "          const dataTable =\n",
              "            await google.colab.kernel.invokeFunction('convertToInteractive',\n",
              "                                                     [key], {});\n",
              "          if (!dataTable) return;\n",
              "\n",
              "          const docLinkHtml = 'Like what you see? Visit the ' +\n",
              "            '<a target=\"_blank\" href=https://colab.research.google.com/notebooks/data_table.ipynb>data table notebook</a>'\n",
              "            + ' to learn more about interactive tables.';\n",
              "          element.innerHTML = '';\n",
              "          dataTable['output_type'] = 'display_data';\n",
              "          await google.colab.output.renderOutput(dataTable, element);\n",
              "          const docLink = document.createElement('div');\n",
              "          docLink.innerHTML = docLinkHtml;\n",
              "          element.appendChild(docLink);\n",
              "        }\n",
              "      </script>\n",
              "    </div>\n",
              "  </div>\n",
              "  "
            ]
          },
          "metadata": {},
          "execution_count": 100
        }
      ]
    },
    {
      "cell_type": "code",
      "source": [
        "df.corr()['diagnosis_B']"
      ],
      "metadata": {
        "colab": {
          "base_uri": "https://localhost:8080/"
        },
        "id": "f-6aPLPKXoY_",
        "outputId": "fc33d417-d33f-48cb-a2f6-3cf0f34b795f"
      },
      "execution_count": 101,
      "outputs": [
        {
          "output_type": "execute_result",
          "data": {
            "text/plain": [
              "radius_mean               -0.730029\n",
              "texture_mean              -0.415185\n",
              "perimeter_mean            -0.742636\n",
              "area_mean                 -0.708984\n",
              "smoothness_mean           -0.358560\n",
              "compactness_mean          -0.596534\n",
              "concavity_mean            -0.696360\n",
              "concave points_mean       -0.776614\n",
              "symmetry_mean             -0.330499\n",
              "fractal_dimension_mean     0.012838\n",
              "radius_se                 -0.567134\n",
              "texture_se                 0.008303\n",
              "perimeter_se              -0.556141\n",
              "area_se                   -0.548236\n",
              "smoothness_se              0.067016\n",
              "compactness_se            -0.292999\n",
              "concavity_se              -0.253730\n",
              "concave points_se         -0.408042\n",
              "symmetry_se                0.006522\n",
              "fractal_dimension_se      -0.077972\n",
              "radius_worst              -0.776454\n",
              "texture_worst             -0.456903\n",
              "perimeter_worst           -0.782914\n",
              "area_worst                -0.733825\n",
              "smoothness_worst          -0.421465\n",
              "compactness_worst         -0.590998\n",
              "concavity_worst           -0.659610\n",
              "concave points_worst      -0.793566\n",
              "symmetry_worst            -0.416294\n",
              "fractal_dimension_worst   -0.323872\n",
              "diagnosis_B                1.000000\n",
              "diagnosis_M               -1.000000\n",
              "Name: diagnosis_B, dtype: float64"
            ]
          },
          "metadata": {},
          "execution_count": 101
        }
      ]
    },
    {
      "cell_type": "code",
      "source": [
        "x=df.drop(['diagnosis_B','diagnosis_M'],axis=1)\n",
        "y=df['diagnosis_B']"
      ],
      "metadata": {
        "id": "yBVfoRPxXGsP"
      },
      "execution_count": 102,
      "outputs": []
    },
    {
      "cell_type": "code",
      "source": [
        "x.shape , y.shape"
      ],
      "metadata": {
        "colab": {
          "base_uri": "https://localhost:8080/"
        },
        "id": "EwEeqRqpYKda",
        "outputId": "e5e9b0a4-de2e-4bdd-9e6a-54a0aeaf0801"
      },
      "execution_count": 103,
      "outputs": [
        {
          "output_type": "execute_result",
          "data": {
            "text/plain": [
              "((569, 30), (569,))"
            ]
          },
          "metadata": {},
          "execution_count": 103
        }
      ]
    },
    {
      "cell_type": "code",
      "source": [
        "from sklearn.model_selection import train_test_split\n",
        "x_train,x_test,y_train,y_test=train_test_split(x,y,test_size=0.2,random_state=42)"
      ],
      "metadata": {
        "id": "FgncLWvfYRbP"
      },
      "execution_count": 104,
      "outputs": []
    },
    {
      "cell_type": "code",
      "source": [
        "from sklearn.preprocessing import StandardScaler\n",
        "scaler=StandardScaler()\n",
        "\n",
        "x_train=scaler.fit_transform(x_train)\n",
        "x_test=scaler.transform(x_test)"
      ],
      "metadata": {
        "id": "964oyc7WYe8T"
      },
      "execution_count": 105,
      "outputs": []
    },
    {
      "cell_type": "code",
      "source": [
        "from sklearn.neighbors import KNeighborsClassifier"
      ],
      "metadata": {
        "id": "4YG22NvlY4-A"
      },
      "execution_count": 106,
      "outputs": []
    },
    {
      "cell_type": "code",
      "source": [
        "train_accuracy=[]\n",
        "test_accuracy=[]\n",
        "\n",
        "for k in range(2,25):\n",
        "  knn=KNeighborsClassifier(n_neighbors=k)\n",
        "  knn.fit(x_train,y_train)\n",
        "\n",
        "  train_accuracy.append(knn.score(x_train,y_train))\n",
        "  test_accuracy.append(knn.score(x_test,y_test))"
      ],
      "metadata": {
        "id": "Skcoxq_ZZLda"
      },
      "execution_count": 107,
      "outputs": []
    },
    {
      "cell_type": "code",
      "source": [
        "plt.figure(figsize=(12,8))\n",
        "\n",
        "plt.plot(range(2,25),train_accuracy,marker=\"o\",label=\"Train-Score\",color=\"aqua\")\n",
        "plt.plot(range(2,25),test_accuracy,marker=\"o\",label=\"Test-Score\",color=\"orange\")\n",
        "\n",
        "plt.title(\"Train vs Test accuracy for different K values\")\n",
        "plt.xlabel(\"Number of Neighbors\")\n",
        "plt.ylabel(\"Score\")\n",
        "plt.legend()\n",
        "plt.show()"
      ],
      "metadata": {
        "colab": {
          "base_uri": "https://localhost:8080/",
          "height": 456
        },
        "id": "QwkQ-bp6Z_Jz",
        "outputId": "95c9f377-f6bc-400f-ef00-ab2e24d00cf2"
      },
      "execution_count": 108,
      "outputs": [
        {
          "output_type": "display_data",
          "data": {
            "text/plain": [
              "<Figure size 864x576 with 1 Axes>"
            ],
            "image/png": "[encoded data removed]"
          },
          "metadata": {
            "needs_background": "light"
          }
        }
      ]
    },
    {
      "cell_type": "markdown",
      "source": [
        "Test Accuracy is the highest for k=9, so we consider k=9\n",
        "\n"
      ],
      "metadata": {
        "id": "eH2cqHMva_Re"
      }
    },
    {
      "cell_type": "code",
      "source": [
        "model=KNeighborsClassifier(n_neighbors=9)\n",
        "model.fit(x_train,y_train)"
      ],
      "metadata": {
        "colab": {
          "base_uri": "https://localhost:8080/"
        },
        "id": "Y9I0VSRIa2nf",
        "outputId": "28766985-9eee-45a3-d12d-777fc63635aa"
      },
      "execution_count": 129,
      "outputs": [
        {
          "output_type": "execute_result",
          "data": {
            "text/plain": [
              "KNeighborsClassifier(n_neighbors=9)"
            ]
          },
          "metadata": {},
          "execution_count": 129
        }
      ]
    },
    {
      "cell_type": "code",
      "source": [
        "y_pred= model.predict(x_test)"
      ],
      "metadata": {
        "id": "-c9TXzErbUAl"
      },
      "execution_count": 130,
      "outputs": []
    },
    {
      "cell_type": "code",
      "source": [
        "from sklearn.metrics import classification_report,accuracy_score,plot_roc_curve,plot_confusion_matrix\n",
        "print(accuracy_score(y_test,y_pred))\n",
        "print(classification_report(y_test,y_pred))"
      ],
      "metadata": {
        "colab": {
          "base_uri": "https://localhost:8080/"
        },
        "id": "sX3GrQdtbZeJ",
        "outputId": "13fef6b9-5846-4a22-c0ea-c402e2f04be5"
      },
      "execution_count": 131,
      "outputs": [
        {
          "output_type": "stream",
          "name": "stdout",
          "text": [
            "0.9649122807017544\n",
            "              precision    recall  f1-score   support\n",
            "\n",
            "           0       0.95      0.95      0.95        43\n",
            "           1       0.97      0.97      0.97        71\n",
            "\n",
            "    accuracy                           0.96       114\n",
            "   macro avg       0.96      0.96      0.96       114\n",
            "weighted avg       0.96      0.96      0.96       114\n",
            "\n"
          ]
        }
      ]
    },
    {
      "cell_type": "code",
      "source": [
        "plot_roc_curve(model,x_test,y_test);"
      ],
      "metadata": {
        "colab": {
          "base_uri": "https://localhost:8080/",
          "height": 334
        },
        "id": "Wo4II1XLbsVD",
        "outputId": "391f95a6-0beb-40bd-b32e-a7f22a18bae4"
      },
      "execution_count": 112,
      "outputs": [
        {
          "output_type": "stream",
          "name": "stderr",
          "text": [
            "/usr/local/lib/python3.7/dist-packages/sklearn/utils/deprecation.py:87: FutureWarning: Function plot_roc_curve is deprecated; Function :func:`plot_roc_curve` is deprecated in 1.0 and will be removed in 1.2. Use one of the class methods: :meth:`sklearn.metric.RocCurveDisplay.from_predictions` or :meth:`sklearn.metric.RocCurveDisplay.from_estimator`.\n",
            "  warnings.warn(msg, category=FutureWarning)\n"
          ]
        },
        {
          "output_type": "display_data",
          "data": {
            "text/plain": [
              "<Figure size 432x288 with 1 Axes>"
            ],
            "image/png": "[encoded data removed]"
          },
          "metadata": {
            "needs_background": "light"
          }
        }
      ]
    },
    {
      "cell_type": "code",
      "source": [
        "plot_confusion_matrix(model,x_test,y_test)"
      ],
      "metadata": {
        "colab": {
          "base_uri": "https://localhost:8080/",
          "height": 351
        },
        "id": "IGMh9pAvb2A_",
        "outputId": "f2818589-e9d2-4587-d4d2-fcfe84fd009d"
      },
      "execution_count": 113,
      "outputs": [
        {
          "output_type": "stream",
          "name": "stderr",
          "text": [
            "/usr/local/lib/python3.7/dist-packages/sklearn/utils/deprecation.py:87: FutureWarning: Function plot_confusion_matrix is deprecated; Function `plot_confusion_matrix` is deprecated in 1.0 and will be removed in 1.2. Use one of the class methods: ConfusionMatrixDisplay.from_predictions or ConfusionMatrixDisplay.from_estimator.\n",
            "  warnings.warn(msg, category=FutureWarning)\n"
          ]
        },
        {
          "output_type": "execute_result",
          "data": {
            "text/plain": [
              "<sklearn.metrics._plot.confusion_matrix.ConfusionMatrixDisplay at 0x7f2926065850>"
            ]
          },
          "metadata": {},
          "execution_count": 113
        },
        {
          "output_type": "display_data",
          "data": {
            "text/plain": [
              "<Figure size 432x288 with 2 Axes>"
            ],
            "image/png": "[encoded data removed]"
          },
          "metadata": {
            "needs_background": "light"
          }
        }
      ]
    },
    {
      "cell_type": "markdown",
      "source": [
        "## Decision Boundary KNN example"
      ],
      "metadata": {
        "id": "0G7MOLRi7Skv"
      }
    },
    {
      "cell_type": "code",
      "source": [
        "X=df[['concave points_worst','perimeter_worst']]"
      ],
      "metadata": {
        "id": "oxpZBN612AEa"
      },
      "execution_count": 137,
      "outputs": []
    },
    {
      "cell_type": "code",
      "source": [
        "X"
      ],
      "metadata": {
        "colab": {
          "base_uri": "https://localhost:8080/",
          "height": 424
        },
        "id": "I5HG1qXR2qp1",
        "outputId": "d62e866c-2784-44d4-ef7f-496973f25e7c"
      },
      "execution_count": 144,
      "outputs": [
        {
          "output_type": "execute_result",
          "data": {
            "text/plain": [
              "     concave points_worst  perimeter_worst\n",
              "0                  0.2654           184.60\n",
              "1                  0.1860           158.80\n",
              "2                  0.2430           152.50\n",
              "3                  0.2575            98.87\n",
              "4                  0.1625           152.20\n",
              "..                    ...              ...\n",
              "564                0.2216           166.10\n",
              "565                0.1628           155.00\n",
              "566                0.1418           126.70\n",
              "567                0.2650           184.60\n",
              "568                0.0000            59.16\n",
              "\n",
              "[569 rows x 2 columns]"
            ],
            "text/html": [
              "\n",
              "  <div id=\"df-9dc944be-e2cd-4299-a160-45823490c45a\">\n",
              "    <div class=\"colab-df-container\">\n",
              "      <div>\n",
              "<style scoped>\n",
              "    .dataframe tbody tr th:only-of-type {\n",
              "        vertical-align: middle;\n",
              "    }\n",
              "\n",
              "    .dataframe tbody tr th {\n",
              "        vertical-align: top;\n",
              "    }\n",
              "\n",
              "    .dataframe thead th {\n",
              "        text-align: right;\n",
              "    }\n",
              "</style>\n",
              "<table border=\"1\" class=\"dataframe\">\n",
              "  <thead>\n",
              "    <tr style=\"text-align: right;\">\n",
              "      <th></th>\n",
              "      <th>concave points_worst</th>\n",
              "      <th>perimeter_worst</th>\n",
              "    </tr>\n",
              "  </thead>\n",
              "  <tbody>\n",
              "    <tr>\n",
              "      <th>0</th>\n",
              "      <td>0.2654</td>\n",
              "      <td>184.60</td>\n",
              "    </tr>\n",
              "    <tr>\n",
              "      <th>1</th>\n",
              "      <td>0.1860</td>\n",
              "      <td>158.80</td>\n",
              "    </tr>\n",
              "    <tr>\n",
              "      <th>2</th>\n",
              "      <td>0.2430</td>\n",
              "      <td>152.50</td>\n",
              "    </tr>\n",
              "    <tr>\n",
              "      <th>3</th>\n",
              "      <td>0.2575</td>\n",
              "      <td>98.87</td>\n",
              "    </tr>\n",
              "    <tr>\n",
              "      <th>4</th>\n",
              "      <td>0.1625</td>\n",
              "      <td>152.20</td>\n",
              "    </tr>\n",
              "    <tr>\n",
              "      <th>...</th>\n",
              "      <td>...</td>\n",
              "      <td>...</td>\n",
              "    </tr>\n",
              "    <tr>\n",
              "      <th>564</th>\n",
              "      <td>0.2216</td>\n",
              "      <td>166.10</td>\n",
              "    </tr>\n",
              "    <tr>\n",
              "      <th>565</th>\n",
              "      <td>0.1628</td>\n",
              "      <td>155.00</td>\n",
              "    </tr>\n",
              "    <tr>\n",
              "      <th>566</th>\n",
              "      <td>0.1418</td>\n",
              "      <td>126.70</td>\n",
              "    </tr>\n",
              "    <tr>\n",
              "      <th>567</th>\n",
              "      <td>0.2650</td>\n",
              "      <td>184.60</td>\n",
              "    </tr>\n",
              "    <tr>\n",
              "      <th>568</th>\n",
              "      <td>0.0000</td>\n",
              "      <td>59.16</td>\n",
              "    </tr>\n",
              "  </tbody>\n",
              "</table>\n",
              "<p>569 rows × 2 columns</p>\n",
              "</div>\n",
              "      <button class=\"colab-df-convert\" onclick=\"convertToInteractive('df-9dc944be-e2cd-4299-a160-45823490c45a')\"\n",
              "              title=\"Convert this dataframe to an interactive table.\"\n",
              "              style=\"display:none;\">\n",
              "        \n",
              "  <svg xmlns=\"http://www.w3.org/2000/svg\" height=\"24px\"viewBox=\"0 0 24 24\"\n",
              "       width=\"24px\">\n",
              "    <path d=\"M0 0h24v24H0V0z\" fill=\"none\"/>\n",
              "    <path d=\"M18.56 5.44l.94 2.06.94-2.06 2.06-.94-2.06-.94-.94-2.06-.94 2.06-2.06.94zm-11 1L8.5 8.5l.94-2.06 2.06-.94-2.06-.94L8.5 2.5l-.94 2.06-2.06.94zm10 10l.94 2.06.94-2.06 2.06-.94-2.06-.94-.94-2.06-.94 2.06-2.06.94z\"/><path d=\"M17.41 7.96l-1.37-1.37c-.4-.4-.92-.59-1.43-.59-.52 0-1.04.2-1.43.59L10.3 9.45l-7.72 7.72c-.78.78-.78 2.05 0 2.83L4 21.41c.39.39.9.59 1.41.59.51 0 1.02-.2 1.41-.59l7.78-7.78 2.81-2.81c.8-.78.8-2.07 0-2.86zM5.41 20L4 18.59l7.72-7.72 1.47 1.35L5.41 20z\"/>\n",
              "  </svg>\n",
              "      </button>\n",
              "      \n",
              "  <style>\n",
              "    .colab-df-container {\n",
              "      display:flex;\n",
              "      flex-wrap:wrap;\n",
              "      gap: 12px;\n",
              "    }\n",
              "\n",
              "    .colab-df-convert {\n",
              "      background-color: #E8F0FE;\n",
              "      border: none;\n",
              "      border-radius: 50%;\n",
              "      cursor: pointer;\n",
              "      display: none;\n",
              "      fill: #1967D2;\n",
              "      height: 32px;\n",
              "      padding: 0 0 0 0;\n",
              "      width: 32px;\n",
              "    }\n",
              "\n",
              "    .colab-df-convert:hover {\n",
              "      background-color: #E2EBFA;\n",
              "      box-shadow: 0px 1px 2px rgba(60, 64, 67, 0.3), 0px 1px 3px 1px rgba(60, 64, 67, 0.15);\n",
              "      fill: #174EA6;\n",
              "    }\n",
              "\n",
              "    [theme=dark] .colab-df-convert {\n",
              "      background-color: #3B4455;\n",
              "      fill: #D2E3FC;\n",
              "    }\n",
              "\n",
              "    [theme=dark] .colab-df-convert:hover {\n",
              "      background-color: #434B5C;\n",
              "      box-shadow: 0px 1px 3px 1px rgba(0, 0, 0, 0.15);\n",
              "      filter: drop-shadow(0px 1px 2px rgba(0, 0, 0, 0.3));\n",
              "      fill: #FFFFFF;\n",
              "    }\n",
              "  </style>\n",
              "\n",
              "      <script>\n",
              "        const buttonEl =\n",
              "          document.querySelector('#df-9dc944be-e2cd-4299-a160-45823490c45a button.colab-df-convert');\n",
              "        buttonEl.style.display =\n",
              "          google.colab.kernel.accessAllowed ? 'block' : 'none';\n",
              "\n",
              "        async function convertToInteractive(key) {\n",
              "          const element = document.querySelector('#df-9dc944be-e2cd-4299-a160-45823490c45a');\n",
              "          const dataTable =\n",
              "            await google.colab.kernel.invokeFunction('convertToInteractive',\n",
              "                                                     [key], {});\n",
              "          if (!dataTable) return;\n",
              "\n",
              "          const docLinkHtml = 'Like what you see? Visit the ' +\n",
              "            '<a target=\"_blank\" href=https://colab.research.google.com/notebooks/data_table.ipynb>data table notebook</a>'\n",
              "            + ' to learn more about interactive tables.';\n",
              "          element.innerHTML = '';\n",
              "          dataTable['output_type'] = 'display_data';\n",
              "          await google.colab.output.renderOutput(dataTable, element);\n",
              "          const docLink = document.createElement('div');\n",
              "          docLink.innerHTML = docLinkHtml;\n",
              "          element.appendChild(docLink);\n",
              "        }\n",
              "      </script>\n",
              "    </div>\n",
              "  </div>\n",
              "  "
            ]
          },
          "metadata": {},
          "execution_count": 144
        }
      ]
    },
    {
      "cell_type": "code",
      "source": [
        "X_train,X_test,Y_train,Y_test=train_test_split(X,Y,test_size=0.2,random_state=42)"
      ],
      "metadata": {
        "id": "DeuCJKcw2rzk"
      },
      "execution_count": 145,
      "outputs": []
    },
    {
      "cell_type": "code",
      "source": [
        "X_train"
      ],
      "metadata": {
        "colab": {
          "base_uri": "https://localhost:8080/",
          "height": 424
        },
        "id": "QjJ5bJnE3AXg",
        "outputId": "0793d2c3-2c6b-4e8e-c7aa-d8c77d3c449b"
      },
      "execution_count": 146,
      "outputs": [
        {
          "output_type": "execute_result",
          "data": {
            "text/plain": [
              "     concave points_worst  perimeter_worst\n",
              "68                0.17500            65.50\n",
              "181               0.29030           176.50\n",
              "63                0.05087            65.59\n",
              "248               0.06136            77.98\n",
              "60                0.02579            69.86\n",
              "..                    ...              ...\n",
              "71                0.04786            62.56\n",
              "106               0.12180            85.51\n",
              "270               0.03333            94.44\n",
              "435               0.18270           113.90\n",
              "102               0.07431            84.58\n",
              "\n",
              "[455 rows x 2 columns]"
            ],
            "text/html": [
              "\n",
              "  <div id=\"df-e8099d06-120a-4b1c-9a17-dccd2c007351\">\n",
              "    <div class=\"colab-df-container\">\n",
              "      <div>\n",
              "<style scoped>\n",
              "    .dataframe tbody tr th:only-of-type {\n",
              "        vertical-align: middle;\n",
              "    }\n",
              "\n",
              "    .dataframe tbody tr th {\n",
              "        vertical-align: top;\n",
              "    }\n",
              "\n",
              "    .dataframe thead th {\n",
              "        text-align: right;\n",
              "    }\n",
              "</style>\n",
              "<table border=\"1\" class=\"dataframe\">\n",
              "  <thead>\n",
              "    <tr style=\"text-align: right;\">\n",
              "      <th></th>\n",
              "      <th>concave points_worst</th>\n",
              "      <th>perimeter_worst</th>\n",
              "    </tr>\n",
              "  </thead>\n",
              "  <tbody>\n",
              "    <tr>\n",
              "      <th>68</th>\n",
              "      <td>0.17500</td>\n",
              "      <td>65.50</td>\n",
              "    </tr>\n",
              "    <tr>\n",
              "      <th>181</th>\n",
              "      <td>0.29030</td>\n",
              "      <td>176.50</td>\n",
              "    </tr>\n",
              "    <tr>\n",
              "      <th>63</th>\n",
              "      <td>0.05087</td>\n",
              "      <td>65.59</td>\n",
              "    </tr>\n",
              "    <tr>\n",
              "      <th>248</th>\n",
              "      <td>0.06136</td>\n",
              "      <td>77.98</td>\n",
              "    </tr>\n",
              "    <tr>\n",
              "      <th>60</th>\n",
              "      <td>0.02579</td>\n",
              "      <td>69.86</td>\n",
              "    </tr>\n",
              "    <tr>\n",
              "      <th>...</th>\n",
              "      <td>...</td>\n",
              "      <td>...</td>\n",
              "    </tr>\n",
              "    <tr>\n",
              "      <th>71</th>\n",
              "      <td>0.04786</td>\n",
              "      <td>62.56</td>\n",
              "    </tr>\n",
              "    <tr>\n",
              "      <th>106</th>\n",
              "      <td>0.12180</td>\n",
              "      <td>85.51</td>\n",
              "    </tr>\n",
              "    <tr>\n",
              "      <th>270</th>\n",
              "      <td>0.03333</td>\n",
              "      <td>94.44</td>\n",
              "    </tr>\n",
              "    <tr>\n",
              "      <th>435</th>\n",
              "      <td>0.18270</td>\n",
              "      <td>113.90</td>\n",
              "    </tr>\n",
              "    <tr>\n",
              "      <th>102</th>\n",
              "      <td>0.07431</td>\n",
              "      <td>84.58</td>\n",
              "    </tr>\n",
              "  </tbody>\n",
              "</table>\n",
              "<p>455 rows × 2 columns</p>\n",
              "</div>\n",
              "      <button class=\"colab-df-convert\" onclick=\"convertToInteractive('df-e8099d06-120a-4b1c-9a17-dccd2c007351')\"\n",
              "              title=\"Convert this dataframe to an interactive table.\"\n",
              "              style=\"display:none;\">\n",
              "        \n",
              "  <svg xmlns=\"http://www.w3.org/2000/svg\" height=\"24px\"viewBox=\"0 0 24 24\"\n",
              "       width=\"24px\">\n",
              "    <path d=\"M0 0h24v24H0V0z\" fill=\"none\"/>\n",
              "    <path d=\"M18.56 5.44l.94 2.06.94-2.06 2.06-.94-2.06-.94-.94-2.06-.94 2.06-2.06.94zm-11 1L8.5 8.5l.94-2.06 2.06-.94-2.06-.94L8.5 2.5l-.94 2.06-2.06.94zm10 10l.94 2.06.94-2.06 2.06-.94-2.06-.94-.94-2.06-.94 2.06-2.06.94z\"/><path d=\"M17.41 7.96l-1.37-1.37c-.4-.4-.92-.59-1.43-.59-.52 0-1.04.2-1.43.59L10.3 9.45l-7.72 7.72c-.78.78-.78 2.05 0 2.83L4 21.41c.39.39.9.59 1.41.59.51 0 1.02-.2 1.41-.59l7.78-7.78 2.81-2.81c.8-.78.8-2.07 0-2.86zM5.41 20L4 18.59l7.72-7.72 1.47 1.35L5.41 20z\"/>\n",
              "  </svg>\n",
              "      </button>\n",
              "      \n",
              "  <style>\n",
              "    .colab-df-container {\n",
              "      display:flex;\n",
              "      flex-wrap:wrap;\n",
              "      gap: 12px;\n",
              "    }\n",
              "\n",
              "    .colab-df-convert {\n",
              "      background-color: #E8F0FE;\n",
              "      border: none;\n",
              "      border-radius: 50%;\n",
              "      cursor: pointer;\n",
              "      display: none;\n",
              "      fill: #1967D2;\n",
              "      height: 32px;\n",
              "      padding: 0 0 0 0;\n",
              "      width: 32px;\n",
              "    }\n",
              "\n",
              "    .colab-df-convert:hover {\n",
              "      background-color: #E2EBFA;\n",
              "      box-shadow: 0px 1px 2px rgba(60, 64, 67, 0.3), 0px 1px 3px 1px rgba(60, 64, 67, 0.15);\n",
              "      fill: #174EA6;\n",
              "    }\n",
              "\n",
              "    [theme=dark] .colab-df-convert {\n",
              "      background-color: #3B4455;\n",
              "      fill: #D2E3FC;\n",
              "    }\n",
              "\n",
              "    [theme=dark] .colab-df-convert:hover {\n",
              "      background-color: #434B5C;\n",
              "      box-shadow: 0px 1px 3px 1px rgba(0, 0, 0, 0.15);\n",
              "      filter: drop-shadow(0px 1px 2px rgba(0, 0, 0, 0.3));\n",
              "      fill: #FFFFFF;\n",
              "    }\n",
              "  </style>\n",
              "\n",
              "      <script>\n",
              "        const buttonEl =\n",
              "          document.querySelector('#df-e8099d06-120a-4b1c-9a17-dccd2c007351 button.colab-df-convert');\n",
              "        buttonEl.style.display =\n",
              "          google.colab.kernel.accessAllowed ? 'block' : 'none';\n",
              "\n",
              "        async function convertToInteractive(key) {\n",
              "          const element = document.querySelector('#df-e8099d06-120a-4b1c-9a17-dccd2c007351');\n",
              "          const dataTable =\n",
              "            await google.colab.kernel.invokeFunction('convertToInteractive',\n",
              "                                                     [key], {});\n",
              "          if (!dataTable) return;\n",
              "\n",
              "          const docLinkHtml = 'Like what you see? Visit the ' +\n",
              "            '<a target=\"_blank\" href=https://colab.research.google.com/notebooks/data_table.ipynb>data table notebook</a>'\n",
              "            + ' to learn more about interactive tables.';\n",
              "          element.innerHTML = '';\n",
              "          dataTable['output_type'] = 'display_data';\n",
              "          await google.colab.output.renderOutput(dataTable, element);\n",
              "          const docLink = document.createElement('div');\n",
              "          docLink.innerHTML = docLinkHtml;\n",
              "          element.appendChild(docLink);\n",
              "        }\n",
              "      </script>\n",
              "    </div>\n",
              "  </div>\n",
              "  "
            ]
          },
          "metadata": {},
          "execution_count": 146
        }
      ]
    },
    {
      "cell_type": "code",
      "source": [
        "scaler=StandardScaler()\n",
        "\n",
        "X_train=scaler.fit_transform(X_train)\n",
        "X_test=scaler.transform(X_test)"
      ],
      "metadata": {
        "id": "b2YtB0TY3DlH"
      },
      "execution_count": 147,
      "outputs": []
    },
    {
      "cell_type": "code",
      "source": [
        "X_train"
      ],
      "metadata": {
        "colab": {
          "base_uri": "https://localhost:8080/"
        },
        "id": "ICWlC7Nl3iLg",
        "outputId": "7157814c-e43c-4a3b-c8bf-fb33408cfa75"
      },
      "execution_count": 148,
      "outputs": [
        {
          "output_type": "execute_result",
          "data": {
            "text/plain": [
              "array([[ 9.32012402e-01, -1.24792009e+00],\n",
              "       [ 2.69894690e+00,  2.08161691e+00],\n",
              "       [-9.70238934e-01, -1.24522047e+00],\n",
              "       [-8.09483141e-01, -8.73572148e-01],\n",
              "       [-1.35458167e+00, -1.11713828e+00],\n",
              "       [ 8.73778655e-01,  5.09835476e-01],\n",
              "       [-1.85156069e-01, -1.62071089e-01],\n",
              "       [-4.50885854e-01, -8.15080282e-01],\n",
              "       [-4.91496231e-01, -6.15008104e-01],\n",
              "       [ 7.22064418e-01,  1.60168364e+00],\n",
              "       [ 9.68178658e-02, -4.69228376e-01],\n",
              "       [ 1.74421993e+00,  1.83265153e+00],\n",
              "       [ 1.35650577e+00,  5.99822963e-01],\n",
              "       [-7.44506539e-01, -1.08654253e+00],\n",
              "       [-6.79070196e-01, -4.00237970e-01],\n",
              "       [ 9.85648749e-01,  1.62867989e+00],\n",
              "       [ 2.31736261e+00,  2.32458312e+00],\n",
              "       [ 1.86068743e+00,  6.47816289e-01],\n",
              "       [-5.95857236e-01, -3.90881908e-02],\n",
              "       [-8.70015589e-01, -7.85384411e-01],\n",
              "       [-1.63701531e-01,  1.97878857e-01],\n",
              "       [ 1.91738871e+00,  5.39831305e-01],\n",
              "       [ 4.76869692e-01, -2.93152861e-01],\n",
              "       [-7.17535119e-01, -1.00255421e+00],\n",
              "       [ 3.91051537e-01,  6.88967929e-02],\n",
              "       [ 1.06686950e+00,  3.23861338e-01],\n",
              "       [-6.11028660e-01, -8.15080282e-01],\n",
              "       [ 1.90972637e+00,  2.39057394e+00],\n",
              "       [-7.23664987e-01, -1.01605234e+00],\n",
              "       [-9.27483103e-01, -5.91011441e-01],\n",
              "       [ 1.39328498e+00,  1.85880525e-01],\n",
              "       [-7.37150697e-01, -3.23748606e-01],\n",
              "       [ 1.26915515e+00,  1.14874663e+00],\n",
              "       [ 1.19253180e+00,  1.53569282e+00],\n",
              "       [ 1.28999674e-01,  2.00878440e-01],\n",
              "       [-1.24225183e+00, -2.76055238e-01],\n",
              "       [ 5.94869654e-01,  3.17862172e-01],\n",
              "       [-1.01529346e+00, -6.89697718e-01],\n",
              "       [-1.35688037e+00, -1.49508572e+00],\n",
              "       [-5.37470242e-01, -2.85353945e-01],\n",
              "       [-1.43059203e+00, -8.18379823e-01],\n",
              "       [ 2.70967417e+00,  2.99049052e+00],\n",
              "       [ 6.46973533e-01,  1.13374872e+00],\n",
              "       [-1.74980492e+00, -1.43809365e+00],\n",
              "       [-5.28275440e-01, -1.44073592e-01],\n",
              "       [-1.13007525e+00, -9.82457007e-01],\n",
              "       [-1.74980492e+00, -1.34540654e+00],\n",
              "       [-5.05441681e-01, -1.07544408e+00],\n",
              "       [-1.59012185e+00, -9.51261345e-01],\n",
              "       [-3.29974205e-01, -5.42418198e-01],\n",
              "       [-7.42207838e-01,  8.98938731e-02],\n",
              "       [-3.23078103e-01, -7.70686455e-01],\n",
              "       [-8.48407804e-01, -6.42904225e-01],\n",
              "       [-7.17535085e-02,  8.90513529e-03],\n",
              "       [-2.31130081e-01, -1.02085167e+00],\n",
              "       [ 5.81077450e-01, -3.30890250e-02],\n",
              "       [ 6.42376132e-01, -6.30848538e-02],\n",
              "       [-8.27413006e-01, -2.97352277e-01],\n",
              "       [-3.73956009e-01, -4.53330587e-01],\n",
              "       [-5.18314370e-02,  2.09877188e-01],\n",
              "       [-4.87818310e-01, -4.88725665e-01],\n",
              "       [-6.50413063e-01, -2.85653904e-01],\n",
              "       [-4.87818310e-01,  6.32818374e-01],\n",
              "       [ 3.63467131e-01,  2.12876771e-01],\n",
              "       [-9.29015570e-01, -6.33005601e-01],\n",
              "       [-1.11597652e-01, -1.20076929e-01],\n",
              "       [ 2.17882762e-01, -2.30161620e-01],\n",
              "       [-4.16865086e-01, -6.60901722e-01],\n",
              "       [-1.40714525e-01, -1.27851584e+00],\n",
              "       [ 1.13675003e-01,  6.56815037e-01],\n",
              "       [ 7.98687770e-01,  1.17874246e+00],\n",
              "       [ 6.34713797e-01,  1.04891787e-01],\n",
              "       [ 9.68178658e-02,  1.91879691e-01],\n",
              "       [ 2.24012630e-01, -2.22062747e-01],\n",
              "       [ 1.05001236e+00,  5.36831722e-01],\n",
              "       [-8.91470128e-01, -4.64129085e-01],\n",
              "       [ 1.45458366e+00,  1.88964360e+00],\n",
              "       [-1.36117124e-01, -4.28434049e-01],\n",
              "       [-5.81298799e-01, -5.69114486e-01],\n",
              "       [-1.74980492e+00, -9.90555881e-01],\n",
              "       [-7.99215612e-01, -8.34277612e-01],\n",
              "       [ 2.33207432e-01,  6.56815037e-01],\n",
              "       [ 2.14817828e-01, -2.43059827e-01],\n",
              "       [-6.43057221e-01, -1.24072109e+00],\n",
              "       [ 2.15798603e+00,  1.35871743e+00],\n",
              "       [-8.98366230e-01, -7.89283869e-01],\n",
              "       [-8.58981827e-01, -1.02079431e-01],\n",
              "       [-9.83571397e-01, -1.57817417e+00],\n",
              "       [ 2.07063541e+00,  2.10861315e+00],\n",
              "       [-6.79070196e-01, -2.38260494e-01],\n",
              "       [ 1.11897338e+00,  1.58068656e+00],\n",
              "       [ 1.03928510e+00,  1.89564277e+00],\n",
              "       [-9.05568825e-01, -7.32291795e-01],\n",
              "       [-9.69319454e-01, -6.16807854e-01],\n",
              "       [-2.59940461e-01, -2.82954279e-01],\n",
              "       [ 2.86843779e-01,  1.82880942e-01],\n",
              "       [-4.72800133e-01, -1.08054337e+00],\n",
              "       [-1.35688037e+00, -1.32710908e+00],\n",
              "       [-2.91815775e-01, -9.30564223e-01],\n",
              "       [-1.74980492e+00, -1.01695221e+00],\n",
              "       [ 6.19389126e-01,  3.68855081e-01],\n",
              "       [-8.09483141e-01, -1.03434979e+00],\n",
              "       [-8.91316881e-01, -5.52016863e-01],\n",
              "       [-1.08992461e+00, -1.05264725e+00],\n",
              "       [-7.14776678e-01, -8.21079448e-01],\n",
              "       [-1.31581025e+00, -7.60187915e-01],\n",
              "       [ 1.06073963e+00,  2.57870514e-01],\n",
              "       [-1.91285938e-01, -9.60802655e-02],\n",
              "       [ 1.46071353e+00,  2.09661482e+00],\n",
              "       [ 1.42699926e+00,  8.90782502e-01],\n",
              "       [-8.64038968e-01, -5.34919241e-01],\n",
              "       [-7.51096147e-01, -1.20202647e+00],\n",
              "       [ 1.07146690e+00,  2.66353598e+00],\n",
              "       [-1.10693499e+00, -3.54344352e-01],\n",
              "       [-1.26033494e+00, -1.04034896e+00],\n",
              "       [-7.78987047e-01, -4.30833715e-01],\n",
              "       [-5.16935183e-01, -4.04137427e-01],\n",
              "       [-3.42080694e-01,  4.19005470e-02],\n",
              "       [-1.74980492e+00, -6.60601764e-01],\n",
              "       [-8.77831171e-01, -5.48117406e-01],\n",
              "       [ 3.37415191e-01, -8.40819340e-02],\n",
              "       [ 1.49136287e+00,  4.91837979e-01],\n",
              "       [ 2.36946649e+00,  3.41043212e+00],\n",
              "       [-8.53311699e-01, -5.91611357e-01],\n",
              "       [-2.15805410e-01, -7.80827683e-02],\n",
              "       [ 1.32892137e+00,  2.42656894e+00],\n",
              "       [-7.00831228e-01, -2.37960536e-01],\n",
              "       [-8.98366230e-01, -3.10850400e-01],\n",
              "       [ 4.33960614e-01,  1.29272661e+00],\n",
              "       [-9.55220757e-01, -2.45759451e-01],\n",
              "       [ 9.18220199e-01, -1.11078180e-01],\n",
              "       [-1.16041809e+00, -1.31271108e+00],\n",
              "       [ 1.89440170e+00,  1.30472494e+00],\n",
              "       [-5.15249470e-01, -2.21762788e-01],\n",
              "       [-4.36787157e-01,  2.63869680e-01],\n",
              "       [-7.46345499e-01, -8.22879198e-01],\n",
              "       [ 4.17103477e-01,  1.28888451e-01],\n",
              "       [ 7.15934550e-01,  4.88838396e-01],\n",
              "       [-7.46345499e-01, -5.16621785e-01],\n",
              "       [-1.16041809e+00, -1.13993511e+00],\n",
              "       [ 6.33181330e-01, -5.08822870e-01],\n",
              "       [ 2.19629771e+00, -2.46959284e-01],\n",
              "       [-4.60846890e-01, -6.12908396e-01],\n",
              "       [ 1.05001236e+00,  1.08275581e+00],\n",
              "       [-8.40132448e-02,  9.88926217e-02],\n",
              "       [ 2.38938856e+00,  4.58842567e-01],\n",
              "       [-1.18049341e+00, -7.23593004e-01],\n",
              "       [ 1.27988242e+00, -5.40861052e-02],\n",
              "       [-9.81579190e-01, -6.79199178e-01],\n",
              "       [-4.57015722e-01,  3.95851327e-01],\n",
              "       [ 4.64609955e-01,  1.63767864e+00],\n",
              "       [-5.30267647e-01, -4.38632630e-01],\n",
              "       [-1.74980492e+00, -1.46209031e+00],\n",
              "       [-4.08896257e-01, -7.07695215e-01],\n",
              "       [-4.60846890e-01, -4.51830795e-01],\n",
              "       [ 8.96765660e-01,  3.44858418e-01],\n",
              "       [ 4.06376208e-01, -3.54344352e-01],\n",
              "       [-6.83054611e-01, -8.72972232e-01],\n",
              "       [ 2.01945138e-02, -4.47031463e-01],\n",
              "       [ 8.87570858e-01,  1.44570534e+00],\n",
              "       [ 5.32038505e-01,  5.98980443e-02],\n",
              "       [-4.79696234e-01, -7.32591753e-01],\n",
              "       [ 4.86064494e-01, -1.62071089e-01],\n",
              "       [ 6.57700802e-01, -1.08174320e+00],\n",
              "       [-4.82148182e-01, -8.21079448e-01],\n",
              "       [ 1.19712920e+00,  1.55069074e+00],\n",
              "       [-4.90729997e-01, -3.17149524e-01],\n",
              "       [-1.27090897e+00, -1.10993928e+00],\n",
              "       [-2.55802800e-01, -1.04634812e+00],\n",
              "       [-7.28568882e-01, -6.20107395e-01],\n",
              "       [-4.22688461e-01, -5.21721076e-01],\n",
              "       [ 4.06376208e-01, -1.71069838e-01],\n",
              "       [-1.38492451e+00, -1.07934353e+00],\n",
              "       [ 6.61685250e-02,  6.62814203e-01],\n",
              "       [-3.49130043e-01, -5.83512484e-01],\n",
              "       [-3.96789768e-01, -3.97538345e-01],\n",
              "       [-7.71477959e-01, -3.58843726e-01],\n",
              "       [-4.10888464e-01,  6.05822129e-01],\n",
              "       [-1.46599202e+00, -7.64987248e-01],\n",
              "       [ 1.69518099e+00,  6.65813786e-01],\n",
              "       [-3.51735237e-01,  3.02864258e-01],\n",
              "       [-8.99745450e-01, -5.95810773e-01],\n",
              "       [-7.53854588e-01, -1.05354712e+00],\n",
              "       [ 4.67674889e-01,  2.72868429e-01],\n",
              "       [-4.30197549e-01, -9.17066100e-01],\n",
              "       [ 1.09598638e+00,  7.13807112e-01],\n",
              "       [ 1.48829794e+00,  1.68267238e+00],\n",
              "       [-1.07260773e+00, -1.41589673e+00],\n",
              "       [-5.64288381e-02, -5.43018115e-01],\n",
              "       [ 6.76090407e-01,  6.80811701e-01],\n",
              "       [-1.49924656e+00, -6.08409022e-01],\n",
              "       [ 5.91804720e-01,  9.23777914e-01],\n",
              "       [ 6.02531989e-01,  7.85797101e-01],\n",
              "       [-6.52558516e-01, -6.60001847e-01],\n",
              "       [-7.84963669e-01, -4.88425706e-01],\n",
              "       [-5.35171541e-01, -8.64573400e-01],\n",
              "       [ 4.20168411e-01, -5.68814528e-01],\n",
              "       [-1.30554272e+00, -3.46845394e-01],\n",
              "       [-4.83527402e-01, -6.60301805e-01],\n",
              "       [-1.53694524e+00, -1.38590090e+00],\n",
              "       [ 8.67648787e-01,  1.77865903e+00],\n",
              "       [ 4.86984345e-03, -1.15433311e+00],\n",
              "       [ 1.10824611e+00, -4.55130336e-01],\n",
              "       [-5.00844280e-01, -8.10823511e-02],\n",
              "       [-4.61766370e-01, -9.36133558e-05],\n",
              "       [-8.63885721e-01, -2.99751943e-01],\n",
              "       [ 2.47367424e+00,  3.66539667e+00],\n",
              "       [ 1.21337338e-01, -1.29075677e-01],\n",
              "       [ 2.04305101e+00,  2.95749511e+00],\n",
              "       [-8.48407804e-01, -7.48789500e-01],\n",
              "       [-1.98948273e-01, -2.97952193e-01],\n",
              "       [ 1.41627199e+00,  1.02276415e+00],\n",
              "       [ 1.40707718e+00,  1.40371117e+00],\n",
              "       [-1.38492451e+00, -1.14863390e+00],\n",
              "       [-8.98366230e-01, -4.79726916e-01],\n",
              "       [ 7.22064418e-01,  1.34671910e+00],\n",
              "       [-3.49130043e-01, -6.82498719e-01],\n",
              "       [ 1.58024596e+00,  1.16674413e+00],\n",
              "       [ 1.69518099e+00,  2.21359855e+00],\n",
              "       [-7.84963669e-01, -8.39376903e-01],\n",
              "       [ 2.43842750e+00,  2.09661482e+00],\n",
              "       [ 2.36486908e+00,  1.91963943e+00],\n",
              "       [-9.88168798e-01, -5.64615111e-01],\n",
              "       [ 1.67311350e-01,  1.79881359e-01],\n",
              "       [ 9.54999408e-01,  1.62268073e+00],\n",
              "       [ 8.67648787e-01,  1.14574705e+00],\n",
              "       [ 1.03928510e+00,  2.77152097e+00],\n",
              "       [ 3.06765850e-01, -2.78454905e-01],\n",
              "       [-1.01943113e+00, -7.20293463e-01],\n",
              "       [-9.67633740e-01, -2.04065249e-01],\n",
              "       [-4.96553372e-01, -7.80827683e-02],\n",
              "       [ 5.16713835e-01,  5.63827968e-01],\n",
              "       [-1.02402849e-01, -8.20179573e-01],\n",
              "       [ 2.80713911e-01,  8.39789593e-01],\n",
              "       [ 7.40454022e-01,  2.19260147e+00],\n",
              "       [ 9.04427996e-01,  1.24773286e+00],\n",
              "       [-3.34418325e-02,  2.00878440e-01],\n",
              "       [-1.14877134e+00, -8.24378989e-01],\n",
              "       [-4.64371564e-01, -5.22320993e-01],\n",
              "       [ 3.29752856e-01,  2.36873434e-01],\n",
              "       [ 1.78038619e-01, -3.86439888e-01],\n",
              "       [-8.47181830e-01, -1.86067752e-01],\n",
              "       [-8.89477921e-01, -4.24834549e-01],\n",
              "       [-7.77761074e-01, -5.56816196e-01],\n",
              "       [-6.59301371e-01, -6.60901722e-01],\n",
              "       [ 4.96791763e-01,  9.80769989e-01],\n",
              "       [ 1.48676547e+00,  1.79065737e+00],\n",
              "       [ 5.56557978e-01, -3.09319624e-03],\n",
              "       [-1.13835057e+00, -6.12008521e-01],\n",
              "       [ 6.33181330e-01,  1.34971868e+00],\n",
              "       [-1.17206484e+00, -1.15103356e+00],\n",
              "       [-5.41148163e-01, -7.30192086e-01],\n",
              "       [-1.74980492e+00, -1.51338318e+00],\n",
              "       [-5.42374136e-01, -1.47048914e+00],\n",
              "       [-1.40929074e+00, -1.13243615e+00],\n",
              "       [ 6.45441066e-01,  1.66767447e+00],\n",
              "       [-1.36668816e+00, -4.53030628e-01],\n",
              "       [-2.47374231e-01, -3.56144101e-01],\n",
              "       [ 1.84536276e+00,  2.31258479e+00],\n",
              "       [ 9.71856545e-01,  1.01376540e+00],\n",
              "       [-6.81981884e-01, -6.28206269e-01],\n",
              "       [-3.42846928e-01,  6.59814620e-01],\n",
              "       [-6.07657232e-01, -1.77069003e-01],\n",
              "       [ 2.02312893e+00,  1.09775372e+00],\n",
              "       [-1.28975831e+00, -8.59774067e-01],\n",
              "       [-6.39226053e-01, -5.86812025e-01],\n",
              "       [-3.77020943e-01, -7.00796174e-01],\n",
              "       [-1.19627782e+00, -5.46917572e-01],\n",
              "       [ 4.95259296e-01, -9.17666017e-01],\n",
              "       [-2.66683316e-01, -2.47859159e-01],\n",
              "       [ 5.32038505e-01,  1.08875497e+00],\n",
              "       [-1.35688037e+00, -1.21462472e+00],\n",
              "       [ 1.67311350e-01,  2.12876771e-01],\n",
              "       [ 1.16739937e-01,  1.23273495e+00],\n",
              "       [-2.70514484e-01, -7.44590084e-01],\n",
              "       [-1.61537691e+00, -6.46203766e-01],\n",
              "       [-7.49410433e-01, -9.83356882e-01],\n",
              "       [-1.02402849e-01, -1.12883665e+00],\n",
              "       [-4.56096242e-01, -6.46203766e-01],\n",
              "       [-7.02363695e-01, -6.31805768e-01],\n",
              "       [ 1.25996035e+00,  1.27472911e+00],\n",
              "       [ 3.55804795e-01,  2.15876354e-01],\n",
              "       [-4.76631300e-01, -3.60886079e-02],\n",
              "       [ 7.12869616e-01, -4.80869394e-02],\n",
              "       [-4.49506634e-01, -7.50831854e-02],\n",
              "       [ 7.23596885e-01,  2.24875103e-01],\n",
              "       [ 9.04427996e-01,  5.93823797e-01],\n",
              "       [ 7.66505962e-01,  1.35271827e+00],\n",
              "       [ 1.16739937e-01, -5.98210440e-01],\n",
              "       [ 6.57700802e-01,  9.62772491e-01],\n",
              "       [ 7.93477752e-03,  1.46885948e-01],\n",
              "       [-1.14402070e+00, -8.70872524e-01],\n",
              "       [ 9.58064342e-01,  1.33772035e+00],\n",
              "       [ 1.02855783e+00,  7.91796267e-01],\n",
              "       [ 1.35190837e+00,  1.26573036e+00],\n",
              "       [-3.10665120e-01, -6.03909647e-01],\n",
              "       [-7.68719518e-01, -7.33191669e-01],\n",
              "       [-2.45688518e-01, -6.15907979e-01],\n",
              "       [-1.08992461e+00, -8.35177487e-01],\n",
              "       [-2.79556039e-01,  2.99022155e-02],\n",
              "       [-3.56792378e-01, -1.80068586e-01],\n",
              "       [-4.40771572e-01, -8.38477028e-01],\n",
              "       [ 6.60765736e-01,  1.46970200e+00],\n",
              "       [-4.34028717e-01, -3.30647647e-01],\n",
              "       [-3.36563813e-01, -3.89739430e-01],\n",
              "       [-5.64288381e-02, -3.60886079e-02],\n",
              "       [ 1.52201221e+00,  3.68855081e-01],\n",
              "       [-1.36668816e+00, -1.07964349e+00],\n",
              "       [-1.60791379e+00, -5.67614694e-01],\n",
              "       [ 9.70324078e-01,  4.49843819e-01],\n",
              "       [ 4.32428147e-01, -5.96410690e-01],\n",
              "       [-4.45368973e-01, -1.31391092e+00],\n",
              "       [ 1.56492129e+00,  3.17862172e-01],\n",
              "       [-8.93462335e-01, -1.20052668e+00],\n",
              "       [ 1.50055767e+00,  1.04976039e+00],\n",
              "       [ 1.70131086e+00,  1.35871743e+00],\n",
              "       [-1.02004411e+00, -1.25481913e+00],\n",
              "       [-4.78470261e-01, -4.91425289e-01],\n",
              "       [ 1.31359670e+00,  1.67967280e+00],\n",
              "       [-5.10345575e-01, -6.59101972e-01],\n",
              "       [ 7.40454022e-01,  1.35271827e+00],\n",
              "       [ 1.22471361e+00,  2.14460815e+00],\n",
              "       [-2.38639169e-01, -9.20065683e-01],\n",
              "       [ 2.04305101e+00,  5.48830054e-01],\n",
              "       [ 6.46360580e-02,  4.49001299e-02],\n",
              "       [-1.06571163e+00, -1.00885334e+00],\n",
              "       [-7.02210415e-02, -2.33761120e-01],\n",
              "       [-6.56236404e-02,  3.98850910e-01],\n",
              "       [-9.75602568e-01, -9.39263013e-01],\n",
              "       [ 2.78568490e-02,  2.84866760e-01],\n",
              "       [-4.55023515e-01, -7.24192921e-01],\n",
              "       [-1.31519723e-01, -5.48717322e-01],\n",
              "       [ 7.84895567e-01, -8.10823511e-02],\n",
              "       [-1.32408557e+00, -1.35110574e+00],\n",
              "       [-1.96496292e-02,  2.63869680e-01],\n",
              "       [ 1.44998626e+00, -1.29075677e-01],\n",
              "       [ 1.08066171e+00,  8.69785422e-01],\n",
              "       [ 1.52047975e+00,  1.49969783e+00],\n",
              "       [-8.01361066e-01, -2.83254237e-01],\n",
              "       [-1.32132713e+00, -7.30792003e-01],\n",
              "       [-9.47405141e-02, -4.48531254e-01],\n",
              "       [ 3.63467131e-01,  1.15474580e+00],\n",
              "       [ 5.33570972e-01,  9.83769571e-01],\n",
              "       [-6.11028660e-01, -7.51789083e-01],\n",
              "       [ 2.14725876e+00,  7.91796267e-01],\n",
              "       [ 8.50791649e-01,  1.65567614e+00],\n",
              "       [-1.34584657e-01, -2.74255489e-01],\n",
              "       [-3.22465116e-01, -8.64873358e-01],\n",
              "       [-4.89504023e-01, -5.69414444e-01],\n",
              "       [ 1.69364852e+00,  2.03362358e+00],\n",
              "       [-1.74980492e+00, -1.29261388e+00],\n",
              "       [ 5.64220313e-01,  1.05275998e+00],\n",
              "       [ 8.04817638e-01,  4.28846739e-01],\n",
              "       [ 9.85648749e-01,  3.59856332e-01],\n",
              "       [-3.19859922e-01, -4.51830795e-01],\n",
              "       [ 4.30895680e-01, -3.60886079e-02],\n",
              "       [-7.54007834e-01, -5.70014361e-01],\n",
              "       [ 1.40707718e+00, -2.70898593e-02],\n",
              "       [-8.47181830e-01, -2.61057324e-01],\n",
              "       [-5.44672837e-01, -6.88197926e-01],\n",
              "       [ 8.79908523e-01,  1.40886782e-01],\n",
              "       [ 1.28447982e+00,  1.91963943e+00],\n",
              "       [ 1.63388231e+00,  5.08992956e-02],\n",
              "       [ 5.71882648e-01,  7.73798770e-01],\n",
              "       [-4.57015689e-02, -1.38074426e-01],\n",
              "       [ 2.11814189e+00, -4.60229627e-01],\n",
              "       [-6.56236404e-02, -6.80399011e-01],\n",
              "       [-1.33910375e+00, -7.15794089e-01],\n",
              "       [-5.85742583e-03, -6.27006435e-01],\n",
              "       [-2.89057335e-01, -5.43018115e-01],\n",
              "       [-2.18410604e-01, -2.61957199e-01],\n",
              "       [-7.84963669e-01, -7.02895882e-01],\n",
              "       [-1.31581025e+00, -9.21565474e-01],\n",
              "       [ 1.38868758e+00,  1.61968114e+00],\n",
              "       [ 2.22388212e+00,  2.96649386e+00],\n",
              "       [-7.02210415e-02,  6.86810866e-01],\n",
              "       [ 6.94480011e-01,  2.44156685e+00],\n",
              "       [-8.60667540e-01, -3.87939680e-01],\n",
              "       [ 2.54661971e-01, -6.29406102e-01],\n",
              "       [-7.46958486e-01, -7.19393588e-01],\n",
              "       [-1.43779459e-01, -2.07064832e-01],\n",
              "       [ 2.27292106e+00,  4.32230532e+00],\n",
              "       [-5.60150754e-01, -3.12350191e-01],\n",
              "       [ 4.23233345e-01,  5.87824631e-01],\n",
              "       [-7.49410433e-01, -1.09014203e+00],\n",
              "       [-1.09666746e+00, -7.04695632e-01],\n",
              "       [-4.31883263e-01, -9.17666017e-01],\n",
              "       [-3.58784585e-01, -3.39646395e-01],\n",
              "       [ 9.22204647e-02, -6.78599261e-01],\n",
              "       [ 1.22164867e+00,  9.71771240e-01],\n",
              "       [ 9.73389012e-01,  1.18474162e+00],\n",
              "       [ 5.36635906e-01,  1.79881359e-01],\n",
              "       [-1.20256094e+00, -9.50961387e-01],\n",
              "       [-6.96080580e-01, -5.83812442e-01],\n",
              "       [ 9.65726677e-01, -2.10906935e-02],\n",
              "       [ 3.02168449e-01,  1.49885531e-01],\n",
              "       [-1.20853756e+00, -3.94238804e-01],\n",
              "       [ 1.33658370e+00,  5.75826300e-01],\n",
              "       [ 1.29367462e+00, -2.10906935e-02],\n",
              "       [ 1.04694743e+00,  1.04676081e+00],\n",
              "       [ 1.10058378e+00,  1.55069074e+00],\n",
              "       [-6.16852034e-01, -6.05409439e-01],\n",
              "       [-8.10862362e-01, -6.77099470e-01],\n",
              "       [ 1.68843817e-01,  3.17862172e-01],\n",
              "       [ 1.10671364e+00,  7.67799604e-01],\n",
              "       [ 3.29752856e-01,  8.08951244e-02],\n",
              "       [-6.02753338e-01, -7.02295966e-01],\n",
              "       [-2.40171636e-01, -4.64429043e-01],\n",
              "       [ 1.54806415e+00,  1.58668573e+00],\n",
              "       [ 5.12116434e-01,  1.19047182e-02],\n",
              "       [ 1.45151873e+00,  2.85850887e+00],\n",
              "       [-1.12547784e+00, -1.08624257e+00],\n",
              "       [-1.12884927e+00, -6.97496633e-01],\n",
              "       [-3.49742996e-02,  1.46885948e-01],\n",
              "       [-1.32316609e+00, -6.78599261e-01],\n",
              "       [-1.05452462e+00, -2.23262580e-01],\n",
              "       [-9.59205171e-01, -1.17023090e+00],\n",
              "       [-1.04441034e+00, -1.00315413e+00],\n",
              "       [ 2.14572630e+00,  2.15960606e+00],\n",
              "       [ 4.75337225e-01,  1.61883862e-01],\n",
              "       [-7.54774068e-01, -5.47817447e-01],\n",
              "       [-1.79026201e-01, -1.14143490e+00],\n",
              "       [-8.14080542e-01, -2.73055655e-01],\n",
              "       [-1.01192204e+00, -6.13508312e-01],\n",
              "       [-2.50592412e-01, -4.16435717e-01],\n",
              "       [-1.31519723e-01, -7.75485788e-01],\n",
              "       [-1.57954783e+00, -5.05823287e-01],\n",
              "       [-5.29041673e-01, -7.89583828e-01],\n",
              "       [ 2.09208995e+00,  1.58068656e+00],\n",
              "       [-7.95537691e-01, -1.25901855e+00],\n",
              "       [-1.02724671e+00, -7.76085705e-01],\n",
              "       [-1.00410646e+00, -1.17203064e+00],\n",
              "       [-5.37776735e-01, -5.45717739e-01],\n",
              "       [-1.57954783e+00, -8.91869604e-01],\n",
              "       [-1.01835840e+00, -5.41818282e-01],\n",
              "       [ 3.32817790e-01, -1.47073175e-01],\n",
              "       [ 2.54661971e-01,  9.28934559e-02],\n",
              "       [-4.71574159e-01,  5.99822963e-01],\n",
              "       [ 1.70590826e+00,  1.51469574e+00],\n",
              "       [-1.41112970e+00, -3.48645144e-01],\n",
              "       [-4.95174152e-01, -4.71628042e-01],\n",
              "       [ 6.48506000e-01,  7.18963758e-02],\n",
              "       [ 1.26302528e+00,  1.34971868e+00],\n",
              "       [ 1.24770061e+00,  1.37371535e+00],\n",
              "       [-8.42431183e-01, -4.81226707e-01],\n",
              "       [ 1.28601229e+00,  5.15834642e-01],\n",
              "       [ 9.65726677e-01,  2.36873434e-01],\n",
              "       [ 6.00386569e-02, -1.86067752e-01],\n",
              "       [ 8.15544907e-01,  1.14874663e+00],\n",
              "       [-6.33709172e-01, -3.30347689e-01],\n",
              "       [-1.01636619e+00, -1.33610783e+00],\n",
              "       [ 1.16739937e-01, -6.47703557e-01],\n",
              "       [-1.23903365e+00, -3.79840806e-01],\n",
              "       [ 1.05001236e+00,  2.03878023e-01],\n",
              "       [-6.11028660e-01, -6.75599678e-01]])"
            ]
          },
          "metadata": {},
          "execution_count": 148
        }
      ]
    },
    {
      "cell_type": "code",
      "source": [
        "a=np.arange(start=X_train[:,0].min()-1, stop=X_train[:,0].max()+1, step=0.01)\n",
        "b=np.arange(start=X_train[:,1].min()-1, stop=X_train[:,1].max()+1, step=0.01)\n",
        "\n",
        "XX,YY = np.meshgrid(a,b)"
      ],
      "metadata": {
        "id": "2hi5TW8Z3jeL"
      },
      "execution_count": 154,
      "outputs": []
    },
    {
      "cell_type": "code",
      "source": [
        "knn2=KNeighborsClassifier(n_neighbors=3)\n",
        "knn2.fit(X_train,Y_train)"
      ],
      "metadata": {
        "colab": {
          "base_uri": "https://localhost:8080/"
        },
        "id": "P0Oh1WFs4qbp",
        "outputId": "c166ee25-a9b2-49bf-ec53-e583c48ecc74"
      },
      "execution_count": 162,
      "outputs": [
        {
          "output_type": "execute_result",
          "data": {
            "text/plain": [
              "KNeighborsClassifier(n_neighbors=3)"
            ]
          },
          "metadata": {},
          "execution_count": 162
        }
      ]
    },
    {
      "cell_type": "code",
      "source": [
        "input_array = np.array([XX.ravel(),YY.ravel()]).T"
      ],
      "metadata": {
        "id": "j5nT2MsK5bl_"
      },
      "execution_count": 171,
      "outputs": []
    },
    {
      "cell_type": "code",
      "source": [
        "labels= knn2.predict(input_array)"
      ],
      "metadata": {
        "id": "tSwbKT1a5nID"
      },
      "execution_count": 176,
      "outputs": []
    },
    {
      "cell_type": "code",
      "source": [
        "labels"
      ],
      "metadata": {
        "colab": {
          "base_uri": "https://localhost:8080/"
        },
        "id": "U7er97Ic6GOT",
        "outputId": "7dc5ae88-089e-4925-e752-4dee01c3af6d"
      },
      "execution_count": 177,
      "outputs": [
        {
          "output_type": "execute_result",
          "data": {
            "text/plain": [
              "array([0, 0, 0, ..., 1, 1, 1], dtype=uint8)"
            ]
          },
          "metadata": {},
          "execution_count": 177
        }
      ]
    },
    {
      "cell_type": "code",
      "source": [
        "plt.contourf(XX,YY,labels.reshape(XX.shape))"
      ],
      "metadata": {
        "colab": {
          "base_uri": "https://localhost:8080/",
          "height": 282
        },
        "id": "TIUQsZ8P6cbO",
        "outputId": "bc712b7f-a850-45dc-8141-b3f850593360"
      },
      "execution_count": 178,
      "outputs": [
        {
          "output_type": "execute_result",
          "data": {
            "text/plain": [
              "<matplotlib.contour.QuadContourSet at 0x7f2925761b50>"
            ]
          },
          "metadata": {},
          "execution_count": 178
        },
        {
          "output_type": "display_data",
          "data": {
            "text/plain": [
              "<Figure size 432x288 with 1 Axes>"
            ],
            "image/png": "[encoded data removed]"
          },
          "metadata": {
            "needs_background": "light"
          }
        }
      ]
    },
    {
      "cell_type": "code",
      "source": [
        "plt.contourf(XX,YY,labels.reshape(XX.shape),alpha=0.5)\n",
        "plt.scatter(X_train[:,0],X_train[:,1],c=Y_train)"
      ],
      "metadata": {
        "colab": {
          "base_uri": "https://localhost:8080/",
          "height": 282
        },
        "id": "w8_BwEK26qKZ",
        "outputId": "8cf6ca7e-46ea-451b-b6dc-4a535fb9e7e2"
      },
      "execution_count": 182,
      "outputs": [
        {
          "output_type": "execute_result",
          "data": {
            "text/plain": [
              "<matplotlib.collections.PathCollection at 0x7f2925305510>"
            ]
          },
          "metadata": {},
          "execution_count": 182
        },
        {
          "output_type": "display_data",
          "data": {
            "text/plain": [
              "<Figure size 432x288 with 1 Axes>"
            ],
            "image/png": "[encoded data removed]"
          },
          "metadata": {
            "needs_background": "light"
          }
        }
      ]
    },
    {
      "cell_type": "code",
      "source": [
        ""
      ],
      "metadata": {
        "id": "ddcIxBMQ62Xt"
      },
      "execution_count": null,
      "outputs": []
    }
  ]
}