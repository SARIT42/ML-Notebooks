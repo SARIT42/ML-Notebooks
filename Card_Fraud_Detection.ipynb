{
  "nbformat": 4,
  "nbformat_minor": 0,
  "metadata": {
    "colab": {
      "name": "Card-Fraud-Detection.ipynb",
      "provenance": []
    },
    "kernelspec": {
      "name": "python3",
      "display_name": "Python 3"
    },
    "language_info": {
      "name": "python"
    }
  },
  "cells": [
    {
      "cell_type": "markdown",
      "source": [
        "## IMPORTING LIBRARIES"
      ],
      "metadata": {
        "id": "ZkUf-LWWoQ-U"
      }
    },
    {
      "cell_type": "code",
      "execution_count": 1,
      "metadata": {
        "id": "3MwY8zRG-0ku"
      },
      "outputs": [],
      "source": [
        "import pandas as pd\n",
        "import numpy as np\n",
        "import plotly.express as px\n",
        "import matplotlib.pyplot as plt\n",
        "import seaborn as sns"
      ]
    },
    {
      "cell_type": "code",
      "source": [
        "from sklearn.preprocessing import MinMaxScaler,StandardScaler\n",
        "from sklearn.model_selection import train_test_split\n",
        "from sklearn.ensemble import RandomForestClassifier\n",
        "from sklearn.tree import DecisionTreeClassifier\n",
        "from sklearn.neighbors import KNeighborsClassifier\n",
        "from sklearn.metrics import classification_report, accuracy_score, confusion_matrix,precision_score"
      ],
      "metadata": {
        "id": "g8lB4yQnmw4t"
      },
      "execution_count": 2,
      "outputs": []
    },
    {
      "cell_type": "markdown",
      "source": [
        "## LOADING AND UNDERSTANDING THE DATA"
      ],
      "metadata": {
        "id": "8JUDz2VroVaO"
      }
    },
    {
      "cell_type": "code",
      "source": [
        "df=pd.read_csv('/content/card_transdata1.csv')\n",
        "df"
      ],
      "metadata": {
        "colab": {
          "base_uri": "https://localhost:8080/",
          "height": 488
        },
        "id": "ZEG8o8C4oPXa",
        "outputId": "7d58437e-618b-4b38-9246-a3d61e330b45"
      },
      "execution_count": 3,
      "outputs": [
        {
          "output_type": "execute_result",
          "data": {
            "text/plain": [
              "        distance_from_home  distance_from_last_transaction  \\\n",
              "0                57.877857                        0.311140   \n",
              "1                10.829943                        0.175592   \n",
              "2                 5.091079                        0.805153   \n",
              "3                 2.247564                        5.600044   \n",
              "4                44.190936                        0.566486   \n",
              "...                    ...                             ...   \n",
              "999995            2.207101                        0.112651   \n",
              "999996           19.872726                        2.683904   \n",
              "999997            2.914857                        1.472687   \n",
              "999998            4.258729                        0.242023   \n",
              "999999           58.108125                        0.318110   \n",
              "\n",
              "        ratio_to_median_purchase_price  repeat_retailer  used_chip  \\\n",
              "0                             1.945940                1          1   \n",
              "1                             1.294219                1          0   \n",
              "2                             0.427715                1          0   \n",
              "3                             0.362663                1          1   \n",
              "4                             2.222767                1          1   \n",
              "...                                ...              ...        ...   \n",
              "999995                        1.626798                1          1   \n",
              "999996                        2.778303                1          1   \n",
              "999997                        0.218075                1          1   \n",
              "999998                        0.475822                1          0   \n",
              "999999                        0.386920                1          1   \n",
              "\n",
              "        used_pin_number  online_order  fraud  \n",
              "0                     0             0      0  \n",
              "1                     0             0      0  \n",
              "2                     0             1      0  \n",
              "3                     0             1      0  \n",
              "4                     0             1      0  \n",
              "...                 ...           ...    ...  \n",
              "999995                0             0      0  \n",
              "999996                0             0      0  \n",
              "999997                0             1      0  \n",
              "999998                0             1      0  \n",
              "999999                0             1      0  \n",
              "\n",
              "[1000000 rows x 8 columns]"
            ],
            "text/html": [
              "\n",
              "  <div id=\"df-e0e88f8f-143d-451a-87b4-22d3c16d7270\">\n",
              "    <div class=\"colab-df-container\">\n",
              "      <div>\n",
              "<style scoped>\n",
              "    .dataframe tbody tr th:only-of-type {\n",
              "        vertical-align: middle;\n",
              "    }\n",
              "\n",
              "    .dataframe tbody tr th {\n",
              "        vertical-align: top;\n",
              "    }\n",
              "\n",
              "    .dataframe thead th {\n",
              "        text-align: right;\n",
              "    }\n",
              "</style>\n",
              "<table border=\"1\" class=\"dataframe\">\n",
              "  <thead>\n",
              "    <tr style=\"text-align: right;\">\n",
              "      <th></th>\n",
              "      <th>distance_from_home</th>\n",
              "      <th>distance_from_last_transaction</th>\n",
              "      <th>ratio_to_median_purchase_price</th>\n",
              "      <th>repeat_retailer</th>\n",
              "      <th>used_chip</th>\n",
              "      <th>used_pin_number</th>\n",
              "      <th>online_order</th>\n",
              "      <th>fraud</th>\n",
              "    </tr>\n",
              "  </thead>\n",
              "  <tbody>\n",
              "    <tr>\n",
              "      <th>0</th>\n",
              "      <td>57.877857</td>\n",
              "      <td>0.311140</td>\n",
              "      <td>1.945940</td>\n",
              "      <td>1</td>\n",
              "      <td>1</td>\n",
              "      <td>0</td>\n",
              "      <td>0</td>\n",
              "      <td>0</td>\n",
              "    </tr>\n",
              "    <tr>\n",
              "      <th>1</th>\n",
              "      <td>10.829943</td>\n",
              "      <td>0.175592</td>\n",
              "      <td>1.294219</td>\n",
              "      <td>1</td>\n",
              "      <td>0</td>\n",
              "      <td>0</td>\n",
              "      <td>0</td>\n",
              "      <td>0</td>\n",
              "    </tr>\n",
              "    <tr>\n",
              "      <th>2</th>\n",
              "      <td>5.091079</td>\n",
              "      <td>0.805153</td>\n",
              "      <td>0.427715</td>\n",
              "      <td>1</td>\n",
              "      <td>0</td>\n",
              "      <td>0</td>\n",
              "      <td>1</td>\n",
              "      <td>0</td>\n",
              "    </tr>\n",
              "    <tr>\n",
              "      <th>3</th>\n",
              "      <td>2.247564</td>\n",
              "      <td>5.600044</td>\n",
              "      <td>0.362663</td>\n",
              "      <td>1</td>\n",
              "      <td>1</td>\n",
              "      <td>0</td>\n",
              "      <td>1</td>\n",
              "      <td>0</td>\n",
              "    </tr>\n",
              "    <tr>\n",
              "      <th>4</th>\n",
              "      <td>44.190936</td>\n",
              "      <td>0.566486</td>\n",
              "      <td>2.222767</td>\n",
              "      <td>1</td>\n",
              "      <td>1</td>\n",
              "      <td>0</td>\n",
              "      <td>1</td>\n",
              "      <td>0</td>\n",
              "    </tr>\n",
              "    <tr>\n",
              "      <th>...</th>\n",
              "      <td>...</td>\n",
              "      <td>...</td>\n",
              "      <td>...</td>\n",
              "      <td>...</td>\n",
              "      <td>...</td>\n",
              "      <td>...</td>\n",
              "      <td>...</td>\n",
              "      <td>...</td>\n",
              "    </tr>\n",
              "    <tr>\n",
              "      <th>999995</th>\n",
              "      <td>2.207101</td>\n",
              "      <td>0.112651</td>\n",
              "      <td>1.626798</td>\n",
              "      <td>1</td>\n",
              "      <td>1</td>\n",
              "      <td>0</td>\n",
              "      <td>0</td>\n",
              "      <td>0</td>\n",
              "    </tr>\n",
              "    <tr>\n",
              "      <th>999996</th>\n",
              "      <td>19.872726</td>\n",
              "      <td>2.683904</td>\n",
              "      <td>2.778303</td>\n",
              "      <td>1</td>\n",
              "      <td>1</td>\n",
              "      <td>0</td>\n",
              "      <td>0</td>\n",
              "      <td>0</td>\n",
              "    </tr>\n",
              "    <tr>\n",
              "      <th>999997</th>\n",
              "      <td>2.914857</td>\n",
              "      <td>1.472687</td>\n",
              "      <td>0.218075</td>\n",
              "      <td>1</td>\n",
              "      <td>1</td>\n",
              "      <td>0</td>\n",
              "      <td>1</td>\n",
              "      <td>0</td>\n",
              "    </tr>\n",
              "    <tr>\n",
              "      <th>999998</th>\n",
              "      <td>4.258729</td>\n",
              "      <td>0.242023</td>\n",
              "      <td>0.475822</td>\n",
              "      <td>1</td>\n",
              "      <td>0</td>\n",
              "      <td>0</td>\n",
              "      <td>1</td>\n",
              "      <td>0</td>\n",
              "    </tr>\n",
              "    <tr>\n",
              "      <th>999999</th>\n",
              "      <td>58.108125</td>\n",
              "      <td>0.318110</td>\n",
              "      <td>0.386920</td>\n",
              "      <td>1</td>\n",
              "      <td>1</td>\n",
              "      <td>0</td>\n",
              "      <td>1</td>\n",
              "      <td>0</td>\n",
              "    </tr>\n",
              "  </tbody>\n",
              "</table>\n",
              "<p>1000000 rows × 8 columns</p>\n",
              "</div>\n",
              "      <button class=\"colab-df-convert\" onclick=\"convertToInteractive('df-e0e88f8f-143d-451a-87b4-22d3c16d7270')\"\n",
              "              title=\"Convert this dataframe to an interactive table.\"\n",
              "              style=\"display:none;\">\n",
              "        \n",
              "  <svg xmlns=\"http://www.w3.org/2000/svg\" height=\"24px\"viewBox=\"0 0 24 24\"\n",
              "       width=\"24px\">\n",
              "    <path d=\"M0 0h24v24H0V0z\" fill=\"none\"/>\n",
              "    <path d=\"M18.56 5.44l.94 2.06.94-2.06 2.06-.94-2.06-.94-.94-2.06-.94 2.06-2.06.94zm-11 1L8.5 8.5l.94-2.06 2.06-.94-2.06-.94L8.5 2.5l-.94 2.06-2.06.94zm10 10l.94 2.06.94-2.06 2.06-.94-2.06-.94-.94-2.06-.94 2.06-2.06.94z\"/><path d=\"M17.41 7.96l-1.37-1.37c-.4-.4-.92-.59-1.43-.59-.52 0-1.04.2-1.43.59L10.3 9.45l-7.72 7.72c-.78.78-.78 2.05 0 2.83L4 21.41c.39.39.9.59 1.41.59.51 0 1.02-.2 1.41-.59l7.78-7.78 2.81-2.81c.8-.78.8-2.07 0-2.86zM5.41 20L4 18.59l7.72-7.72 1.47 1.35L5.41 20z\"/>\n",
              "  </svg>\n",
              "      </button>\n",
              "      \n",
              "  <style>\n",
              "    .colab-df-container {\n",
              "      display:flex;\n",
              "      flex-wrap:wrap;\n",
              "      gap: 12px;\n",
              "    }\n",
              "\n",
              "    .colab-df-convert {\n",
              "      background-color: #E8F0FE;\n",
              "      border: none;\n",
              "      border-radius: 50%;\n",
              "      cursor: pointer;\n",
              "      display: none;\n",
              "      fill: #1967D2;\n",
              "      height: 32px;\n",
              "      padding: 0 0 0 0;\n",
              "      width: 32px;\n",
              "    }\n",
              "\n",
              "    .colab-df-convert:hover {\n",
              "      background-color: #E2EBFA;\n",
              "      box-shadow: 0px 1px 2px rgba(60, 64, 67, 0.3), 0px 1px 3px 1px rgba(60, 64, 67, 0.15);\n",
              "      fill: #174EA6;\n",
              "    }\n",
              "\n",
              "    [theme=dark] .colab-df-convert {\n",
              "      background-color: #3B4455;\n",
              "      fill: #D2E3FC;\n",
              "    }\n",
              "\n",
              "    [theme=dark] .colab-df-convert:hover {\n",
              "      background-color: #434B5C;\n",
              "      box-shadow: 0px 1px 3px 1px rgba(0, 0, 0, 0.15);\n",
              "      filter: drop-shadow(0px 1px 2px rgba(0, 0, 0, 0.3));\n",
              "      fill: #FFFFFF;\n",
              "    }\n",
              "  </style>\n",
              "\n",
              "      <script>\n",
              "        const buttonEl =\n",
              "          document.querySelector('#df-e0e88f8f-143d-451a-87b4-22d3c16d7270 button.colab-df-convert');\n",
              "        buttonEl.style.display =\n",
              "          google.colab.kernel.accessAllowed ? 'block' : 'none';\n",
              "\n",
              "        async function convertToInteractive(key) {\n",
              "          const element = document.querySelector('#df-e0e88f8f-143d-451a-87b4-22d3c16d7270');\n",
              "          const dataTable =\n",
              "            await google.colab.kernel.invokeFunction('convertToInteractive',\n",
              "                                                     [key], {});\n",
              "          if (!dataTable) return;\n",
              "\n",
              "          const docLinkHtml = 'Like what you see? Visit the ' +\n",
              "            '<a target=\"_blank\" href=https://colab.research.google.com/notebooks/data_table.ipynb>data table notebook</a>'\n",
              "            + ' to learn more about interactive tables.';\n",
              "          element.innerHTML = '';\n",
              "          dataTable['output_type'] = 'display_data';\n",
              "          await google.colab.output.renderOutput(dataTable, element);\n",
              "          const docLink = document.createElement('div');\n",
              "          docLink.innerHTML = docLinkHtml;\n",
              "          element.appendChild(docLink);\n",
              "        }\n",
              "      </script>\n",
              "    </div>\n",
              "  </div>\n",
              "  "
            ]
          },
          "metadata": {},
          "execution_count": 3
        }
      ]
    },
    {
      "cell_type": "code",
      "source": [
        "df.describe().style.background_gradient(cmap=\"plasma\")"
      ],
      "metadata": {
        "colab": {
          "base_uri": "https://localhost:8080/",
          "height": 320
        },
        "id": "kZFhdCBGpGH7",
        "outputId": "3d63a3eb-1426-4b7f-ef4e-4cd030e54a99"
      },
      "execution_count": 4,
      "outputs": [
        {
          "output_type": "execute_result",
          "data": {
            "text/plain": [
              "<pandas.io.formats.style.Styler at 0x7f3d8bd717d0>"
            ],
            "text/html": [
              "<style type=\"text/css\">\n",
              "#T_1488a_row0_col0, #T_1488a_row0_col1, #T_1488a_row0_col2, #T_1488a_row0_col3, #T_1488a_row0_col4, #T_1488a_row0_col5, #T_1488a_row0_col6, #T_1488a_row0_col7 {\n",
              "  background-color: #f0f921;\n",
              "  color: #000000;\n",
              "}\n",
              "#T_1488a_row1_col0, #T_1488a_row1_col1, #T_1488a_row1_col2, #T_1488a_row1_col3, #T_1488a_row1_col4, #T_1488a_row1_col5, #T_1488a_row1_col6, #T_1488a_row1_col7, #T_1488a_row2_col0, #T_1488a_row2_col1, #T_1488a_row2_col2, #T_1488a_row2_col3, #T_1488a_row2_col4, #T_1488a_row2_col5, #T_1488a_row2_col6, #T_1488a_row2_col7, #T_1488a_row3_col0, #T_1488a_row3_col1, #T_1488a_row3_col2, #T_1488a_row3_col3, #T_1488a_row3_col4, #T_1488a_row3_col5, #T_1488a_row3_col6, #T_1488a_row3_col7, #T_1488a_row4_col0, #T_1488a_row4_col1, #T_1488a_row4_col2, #T_1488a_row4_col3, #T_1488a_row4_col4, #T_1488a_row4_col5, #T_1488a_row4_col6, #T_1488a_row4_col7, #T_1488a_row5_col0, #T_1488a_row5_col1, #T_1488a_row5_col2, #T_1488a_row5_col3, #T_1488a_row5_col4, #T_1488a_row5_col5, #T_1488a_row5_col6, #T_1488a_row5_col7, #T_1488a_row6_col0, #T_1488a_row6_col1, #T_1488a_row6_col2, #T_1488a_row6_col3, #T_1488a_row6_col4, #T_1488a_row6_col5, #T_1488a_row6_col6, #T_1488a_row6_col7, #T_1488a_row7_col2, #T_1488a_row7_col3, #T_1488a_row7_col4, #T_1488a_row7_col5, #T_1488a_row7_col6, #T_1488a_row7_col7 {\n",
              "  background-color: #0d0887;\n",
              "  color: #f1f1f1;\n",
              "}\n",
              "#T_1488a_row7_col0 {\n",
              "  background-color: #130789;\n",
              "  color: #f1f1f1;\n",
              "}\n",
              "#T_1488a_row7_col1 {\n",
              "  background-color: #16078a;\n",
              "  color: #f1f1f1;\n",
              "}\n",
              "</style>\n",
              "<table id=\"T_1488a_\" class=\"dataframe\">\n",
              "  <thead>\n",
              "    <tr>\n",
              "      <th class=\"blank level0\" >&nbsp;</th>\n",
              "      <th class=\"col_heading level0 col0\" >distance_from_home</th>\n",
              "      <th class=\"col_heading level0 col1\" >distance_from_last_transaction</th>\n",
              "      <th class=\"col_heading level0 col2\" >ratio_to_median_purchase_price</th>\n",
              "      <th class=\"col_heading level0 col3\" >repeat_retailer</th>\n",
              "      <th class=\"col_heading level0 col4\" >used_chip</th>\n",
              "      <th class=\"col_heading level0 col5\" >used_pin_number</th>\n",
              "      <th class=\"col_heading level0 col6\" >online_order</th>\n",
              "      <th class=\"col_heading level0 col7\" >fraud</th>\n",
              "    </tr>\n",
              "  </thead>\n",
              "  <tbody>\n",
              "    <tr>\n",
              "      <th id=\"T_1488a_level0_row0\" class=\"row_heading level0 row0\" >count</th>\n",
              "      <td id=\"T_1488a_row0_col0\" class=\"data row0 col0\" >1000000.000000</td>\n",
              "      <td id=\"T_1488a_row0_col1\" class=\"data row0 col1\" >1000000.000000</td>\n",
              "      <td id=\"T_1488a_row0_col2\" class=\"data row0 col2\" >1000000.000000</td>\n",
              "      <td id=\"T_1488a_row0_col3\" class=\"data row0 col3\" >1000000.000000</td>\n",
              "      <td id=\"T_1488a_row0_col4\" class=\"data row0 col4\" >1000000.000000</td>\n",
              "      <td id=\"T_1488a_row0_col5\" class=\"data row0 col5\" >1000000.000000</td>\n",
              "      <td id=\"T_1488a_row0_col6\" class=\"data row0 col6\" >1000000.000000</td>\n",
              "      <td id=\"T_1488a_row0_col7\" class=\"data row0 col7\" >1000000.000000</td>\n",
              "    </tr>\n",
              "    <tr>\n",
              "      <th id=\"T_1488a_level0_row1\" class=\"row_heading level0 row1\" >mean</th>\n",
              "      <td id=\"T_1488a_row1_col0\" class=\"data row1 col0\" >26.628792</td>\n",
              "      <td id=\"T_1488a_row1_col1\" class=\"data row1 col1\" >5.036519</td>\n",
              "      <td id=\"T_1488a_row1_col2\" class=\"data row1 col2\" >1.824182</td>\n",
              "      <td id=\"T_1488a_row1_col3\" class=\"data row1 col3\" >0.881536</td>\n",
              "      <td id=\"T_1488a_row1_col4\" class=\"data row1 col4\" >0.350399</td>\n",
              "      <td id=\"T_1488a_row1_col5\" class=\"data row1 col5\" >0.100608</td>\n",
              "      <td id=\"T_1488a_row1_col6\" class=\"data row1 col6\" >0.650552</td>\n",
              "      <td id=\"T_1488a_row1_col7\" class=\"data row1 col7\" >0.087403</td>\n",
              "    </tr>\n",
              "    <tr>\n",
              "      <th id=\"T_1488a_level0_row2\" class=\"row_heading level0 row2\" >std</th>\n",
              "      <td id=\"T_1488a_row2_col0\" class=\"data row2 col0\" >65.390784</td>\n",
              "      <td id=\"T_1488a_row2_col1\" class=\"data row2 col1\" >25.843093</td>\n",
              "      <td id=\"T_1488a_row2_col2\" class=\"data row2 col2\" >2.799589</td>\n",
              "      <td id=\"T_1488a_row2_col3\" class=\"data row2 col3\" >0.323157</td>\n",
              "      <td id=\"T_1488a_row2_col4\" class=\"data row2 col4\" >0.477095</td>\n",
              "      <td id=\"T_1488a_row2_col5\" class=\"data row2 col5\" >0.300809</td>\n",
              "      <td id=\"T_1488a_row2_col6\" class=\"data row2 col6\" >0.476796</td>\n",
              "      <td id=\"T_1488a_row2_col7\" class=\"data row2 col7\" >0.282425</td>\n",
              "    </tr>\n",
              "    <tr>\n",
              "      <th id=\"T_1488a_level0_row3\" class=\"row_heading level0 row3\" >min</th>\n",
              "      <td id=\"T_1488a_row3_col0\" class=\"data row3 col0\" >0.004874</td>\n",
              "      <td id=\"T_1488a_row3_col1\" class=\"data row3 col1\" >0.000118</td>\n",
              "      <td id=\"T_1488a_row3_col2\" class=\"data row3 col2\" >0.004399</td>\n",
              "      <td id=\"T_1488a_row3_col3\" class=\"data row3 col3\" >0.000000</td>\n",
              "      <td id=\"T_1488a_row3_col4\" class=\"data row3 col4\" >0.000000</td>\n",
              "      <td id=\"T_1488a_row3_col5\" class=\"data row3 col5\" >0.000000</td>\n",
              "      <td id=\"T_1488a_row3_col6\" class=\"data row3 col6\" >0.000000</td>\n",
              "      <td id=\"T_1488a_row3_col7\" class=\"data row3 col7\" >0.000000</td>\n",
              "    </tr>\n",
              "    <tr>\n",
              "      <th id=\"T_1488a_level0_row4\" class=\"row_heading level0 row4\" >25%</th>\n",
              "      <td id=\"T_1488a_row4_col0\" class=\"data row4 col0\" >3.878008</td>\n",
              "      <td id=\"T_1488a_row4_col1\" class=\"data row4 col1\" >0.296671</td>\n",
              "      <td id=\"T_1488a_row4_col2\" class=\"data row4 col2\" >0.475673</td>\n",
              "      <td id=\"T_1488a_row4_col3\" class=\"data row4 col3\" >1.000000</td>\n",
              "      <td id=\"T_1488a_row4_col4\" class=\"data row4 col4\" >0.000000</td>\n",
              "      <td id=\"T_1488a_row4_col5\" class=\"data row4 col5\" >0.000000</td>\n",
              "      <td id=\"T_1488a_row4_col6\" class=\"data row4 col6\" >0.000000</td>\n",
              "      <td id=\"T_1488a_row4_col7\" class=\"data row4 col7\" >0.000000</td>\n",
              "    </tr>\n",
              "    <tr>\n",
              "      <th id=\"T_1488a_level0_row5\" class=\"row_heading level0 row5\" >50%</th>\n",
              "      <td id=\"T_1488a_row5_col0\" class=\"data row5 col0\" >9.967760</td>\n",
              "      <td id=\"T_1488a_row5_col1\" class=\"data row5 col1\" >0.998650</td>\n",
              "      <td id=\"T_1488a_row5_col2\" class=\"data row5 col2\" >0.997717</td>\n",
              "      <td id=\"T_1488a_row5_col3\" class=\"data row5 col3\" >1.000000</td>\n",
              "      <td id=\"T_1488a_row5_col4\" class=\"data row5 col4\" >0.000000</td>\n",
              "      <td id=\"T_1488a_row5_col5\" class=\"data row5 col5\" >0.000000</td>\n",
              "      <td id=\"T_1488a_row5_col6\" class=\"data row5 col6\" >1.000000</td>\n",
              "      <td id=\"T_1488a_row5_col7\" class=\"data row5 col7\" >0.000000</td>\n",
              "    </tr>\n",
              "    <tr>\n",
              "      <th id=\"T_1488a_level0_row6\" class=\"row_heading level0 row6\" >75%</th>\n",
              "      <td id=\"T_1488a_row6_col0\" class=\"data row6 col0\" >25.743985</td>\n",
              "      <td id=\"T_1488a_row6_col1\" class=\"data row6 col1\" >3.355748</td>\n",
              "      <td id=\"T_1488a_row6_col2\" class=\"data row6 col2\" >2.096370</td>\n",
              "      <td id=\"T_1488a_row6_col3\" class=\"data row6 col3\" >1.000000</td>\n",
              "      <td id=\"T_1488a_row6_col4\" class=\"data row6 col4\" >1.000000</td>\n",
              "      <td id=\"T_1488a_row6_col5\" class=\"data row6 col5\" >0.000000</td>\n",
              "      <td id=\"T_1488a_row6_col6\" class=\"data row6 col6\" >1.000000</td>\n",
              "      <td id=\"T_1488a_row6_col7\" class=\"data row6 col7\" >0.000000</td>\n",
              "    </tr>\n",
              "    <tr>\n",
              "      <th id=\"T_1488a_level0_row7\" class=\"row_heading level0 row7\" >max</th>\n",
              "      <td id=\"T_1488a_row7_col0\" class=\"data row7 col0\" >10632.723670</td>\n",
              "      <td id=\"T_1488a_row7_col1\" class=\"data row7 col1\" >11851.104560</td>\n",
              "      <td id=\"T_1488a_row7_col2\" class=\"data row7 col2\" >267.802942</td>\n",
              "      <td id=\"T_1488a_row7_col3\" class=\"data row7 col3\" >1.000000</td>\n",
              "      <td id=\"T_1488a_row7_col4\" class=\"data row7 col4\" >1.000000</td>\n",
              "      <td id=\"T_1488a_row7_col5\" class=\"data row7 col5\" >1.000000</td>\n",
              "      <td id=\"T_1488a_row7_col6\" class=\"data row7 col6\" >1.000000</td>\n",
              "      <td id=\"T_1488a_row7_col7\" class=\"data row7 col7\" >1.000000</td>\n",
              "    </tr>\n",
              "  </tbody>\n",
              "</table>\n"
            ]
          },
          "metadata": {},
          "execution_count": 4
        }
      ]
    },
    {
      "cell_type": "code",
      "source": [
        "df.info()"
      ],
      "metadata": {
        "colab": {
          "base_uri": "https://localhost:8080/"
        },
        "id": "hfvOLqzSrtyI",
        "outputId": "788b9eeb-18a4-4093-abe5-e77a515e15ed"
      },
      "execution_count": 5,
      "outputs": [
        {
          "output_type": "stream",
          "name": "stdout",
          "text": [
            "<class 'pandas.core.frame.DataFrame'>\n",
            "RangeIndex: 1000000 entries, 0 to 999999\n",
            "Data columns (total 8 columns):\n",
            " #   Column                          Non-Null Count    Dtype  \n",
            "---  ------                          --------------    -----  \n",
            " 0   distance_from_home              1000000 non-null  float64\n",
            " 1   distance_from_last_transaction  1000000 non-null  float64\n",
            " 2   ratio_to_median_purchase_price  1000000 non-null  float64\n",
            " 3   repeat_retailer                 1000000 non-null  int64  \n",
            " 4   used_chip                       1000000 non-null  int64  \n",
            " 5   used_pin_number                 1000000 non-null  int64  \n",
            " 6   online_order                    1000000 non-null  int64  \n",
            " 7   fraud                           1000000 non-null  int64  \n",
            "dtypes: float64(3), int64(5)\n",
            "memory usage: 61.0 MB\n"
          ]
        }
      ]
    },
    {
      "cell_type": "markdown",
      "source": [
        "Correlation Heatmap"
      ],
      "metadata": {
        "id": "eaLeYF3Ar4tf"
      }
    },
    {
      "cell_type": "code",
      "source": [
        "corr=df.corr()\n",
        "plt.figure(figsize=(12,8))\n",
        "sns.heatmap(corr,xticklabels=corr.columns,yticklabels=corr.columns,annot= True, cmap=\"hot\")"
      ],
      "metadata": {
        "colab": {
          "base_uri": "https://localhost:8080/",
          "height": 538
        },
        "id": "4CRW7NRIrson",
        "outputId": "ba0b20e3-031a-4a9f-9c5b-417e753e7170"
      },
      "execution_count": 6,
      "outputs": [
        {
          "output_type": "execute_result",
          "data": {
            "text/plain": [
              "<matplotlib.axes._subplots.AxesSubplot at 0x7f3d98d30950>"
            ]
          },
          "metadata": {},
          "execution_count": 6
        },
        {
          "output_type": "display_data",
          "data": {
            "text/plain": [
              "<Figure size 864x576 with 2 Axes>"
            ],
            "image/png": "[encoded data removed]"
          },
          "metadata": {
            "needs_background": "light"
          }
        }
      ]
    },
    {
      "cell_type": "code",
      "source": [
        "#Class Distribution\n",
        "\n",
        "df['fraud'].value_counts().plot.pie(autopct = \"%.1f\")\n",
        "df['fraud'].value_counts()"
      ],
      "metadata": {
        "colab": {
          "base_uri": "https://localhost:8080/",
          "height": 300
        },
        "id": "AkBriHm9r802",
        "outputId": "5cee3552-7f39-46ce-aa9e-4ee84edd8ee6"
      },
      "execution_count": 7,
      "outputs": [
        {
          "output_type": "execute_result",
          "data": {
            "text/plain": [
              "0    912597\n",
              "1     87403\n",
              "Name: fraud, dtype: int64"
            ]
          },
          "metadata": {},
          "execution_count": 7
        },
        {
          "output_type": "display_data",
          "data": {
            "text/plain": [
              "<Figure size 432x288 with 1 Axes>"
            ],
            "image/png": "[encoded data removed]"
          },
          "metadata": {}
        }
      ]
    },
    {
      "cell_type": "markdown",
      "source": [
        "Under-sampling (Down Sampling)"
      ],
      "metadata": {
        "id": "dNH-_iaIszQb"
      }
    },
    {
      "cell_type": "code",
      "source": [
        "real = df[df['fraud']==0]\n",
        "fraud=df[df['fraud']==1]\n",
        "\n",
        "real_sample=real.sample(n=87403, random_state=42)\n",
        "fraud_sample=fraud.sample(n=87403, random_state=42)\n",
        "\n",
        "data=pd.concat([real_sample,fraud_sample],axis=0)"
      ],
      "metadata": {
        "id": "1qsMiH_PsgrE"
      },
      "execution_count": 8,
      "outputs": []
    },
    {
      "cell_type": "code",
      "source": [
        "data['fraud'].value_counts().plot.pie(autopct = \"%.1f\")\n",
        "data['fraud'].value_counts()"
      ],
      "metadata": {
        "colab": {
          "base_uri": "https://localhost:8080/",
          "height": 300
        },
        "id": "4tF3t6-NtTwM",
        "outputId": "be80dd21-d826-4972-bd38-b85a04589687"
      },
      "execution_count": 9,
      "outputs": [
        {
          "output_type": "execute_result",
          "data": {
            "text/plain": [
              "0    87403\n",
              "1    87403\n",
              "Name: fraud, dtype: int64"
            ]
          },
          "metadata": {},
          "execution_count": 9
        },
        {
          "output_type": "display_data",
          "data": {
            "text/plain": [
              "<Figure size 432x288 with 1 Axes>"
            ],
            "image/png": "[encoded data removed]"
          },
          "metadata": {}
        }
      ]
    },
    {
      "cell_type": "markdown",
      "source": [
        "## MODEL BUILDING"
      ],
      "metadata": {
        "id": "-Oc3PYWTtceI"
      }
    },
    {
      "cell_type": "code",
      "source": [
        "x=np.array(data.drop(columns='fraud'))\n",
        "y=np.array(data['fraud'])"
      ],
      "metadata": {
        "id": "bYI7Q5DatZYT"
      },
      "execution_count": 10,
      "outputs": []
    },
    {
      "cell_type": "code",
      "source": [
        "x_train,x_test,y_train,y_test = train_test_split(x,y,test_size=0.2,random_state=123,shuffle=True)"
      ],
      "metadata": {
        "id": "UMYWESQst4rr"
      },
      "execution_count": 11,
      "outputs": []
    },
    {
      "cell_type": "code",
      "source": [
        "x_train.shape"
      ],
      "metadata": {
        "colab": {
          "base_uri": "https://localhost:8080/"
        },
        "id": "nXXpwWygudWq",
        "outputId": "caa8d24f-84c0-4347-ad76-6dd241d95149"
      },
      "execution_count": 12,
      "outputs": [
        {
          "output_type": "execute_result",
          "data": {
            "text/plain": [
              "(139844, 7)"
            ]
          },
          "metadata": {},
          "execution_count": 12
        }
      ]
    },
    {
      "cell_type": "code",
      "source": [
        "scaler=MinMaxScaler()\n",
        "x_train = scaler.fit_transform(x_train)\n",
        "x_test = scaler.transform(x_test)"
      ],
      "metadata": {
        "id": "6uucPXbDu8Cr"
      },
      "execution_count": 13,
      "outputs": []
    },
    {
      "cell_type": "markdown",
      "source": [
        "K-Nearest Neighbors Classifier"
      ],
      "metadata": {
        "id": "ucYWKki9vS2u"
      }
    },
    {
      "cell_type": "code",
      "source": [
        "train_accuracy=[]\n",
        "test_accuracy=[]\n",
        "\n",
        "for k in range(3,10):\n",
        "  knn=KNeighborsClassifier(n_neighbors=k)\n",
        "  knn.fit(x_train,y_train)\n",
        "  y_prd=knn.predict(x_test)\n",
        "\n",
        "  train_accuracy.append(knn.score(x_train,y_train))\n",
        "  test_accuracy.append(knn.score(x_test,y_test))"
      ],
      "metadata": {
        "id": "nhhLVWIhvJQy"
      },
      "execution_count": 14,
      "outputs": []
    },
    {
      "cell_type": "code",
      "source": [
        "plt.figure(figsize=(12,6))\n",
        "\n",
        "plt.plot(range(3,10),train_accuracy,label=\"Train-Score\",marker=\"o\",color=\"lime\")\n",
        "plt.plot(range(3,10),test_accuracy,label=\"Test-Score\",marker=\"o\",color=\"maroon\")\n",
        "\n",
        "plt.xlabel(\"Number of Neighbors\")\n",
        "plt.ylabel(\"Score\")\n",
        "plt.title(\"Train vs Test Score by Number of Neighbors\")\n",
        "plt.legend()\n",
        "plt.show()"
      ],
      "metadata": {
        "colab": {
          "base_uri": "https://localhost:8080/",
          "height": 352
        },
        "id": "RLmuIwa3wFz7",
        "outputId": "e4ac8fed-30b9-487c-9bce-385504b1a814"
      },
      "execution_count": 15,
      "outputs": [
        {
          "output_type": "display_data",
          "data": {
            "text/plain": [
              "<Figure size 864x432 with 1 Axes>"
            ],
            "image/png": "[encoded data removed]"
          },
          "metadata": {
            "needs_background": "light"
          }
        }
      ]
    },
    {
      "cell_type": "markdown",
      "source": [
        "Accuracy of the model decreases as k increases from 4 onwards. Using k=4 for best performance."
      ],
      "metadata": {
        "id": "5Qp1nDsZxAv3"
      }
    },
    {
      "cell_type": "code",
      "source": [
        "knn=KNeighborsClassifier(n_neighbors=4)\n",
        "knn.fit(x_train,y_train)\n",
        "y_pred=knn.predict(x_test)"
      ],
      "metadata": {
        "id": "YwT-LbcEw5uO"
      },
      "execution_count": 16,
      "outputs": []
    },
    {
      "cell_type": "code",
      "source": [
        "precision_score(y_test,y_pred)"
      ],
      "metadata": {
        "colab": {
          "base_uri": "https://localhost:8080/"
        },
        "id": "yikwguP10t-E",
        "outputId": "0ec1a817-6c14-4d67-fef8-5e53ed9845c9"
      },
      "execution_count": 17,
      "outputs": [
        {
          "output_type": "execute_result",
          "data": {
            "text/plain": [
              "0.9965104971111493"
            ]
          },
          "metadata": {},
          "execution_count": 17
        }
      ]
    },
    {
      "cell_type": "code",
      "source": [
        "confusion_matrix(y_test,y_pred)"
      ],
      "metadata": {
        "colab": {
          "base_uri": "https://localhost:8080/"
        },
        "id": "RrDuQK6306j8",
        "outputId": "af460b7d-d4df-4bcd-ed20-1e64cec5307a"
      },
      "execution_count": 18,
      "outputs": [
        {
          "output_type": "execute_result",
          "data": {
            "text/plain": [
              "array([[17441,    61],\n",
              "       [   40, 17420]])"
            ]
          },
          "metadata": {},
          "execution_count": 18
        }
      ]
    },
    {
      "cell_type": "code",
      "source": [
        "print(\"KNN accuracy: \",knn.score(x_test,y_test))\n",
        "print(\"\\n\",classification_report(y_test,y_pred))"
      ],
      "metadata": {
        "colab": {
          "base_uri": "https://localhost:8080/"
        },
        "id": "XDisvtBt1E4V",
        "outputId": "7a967719-c737-46bd-945f-35c01f23ba2e"
      },
      "execution_count": 19,
      "outputs": [
        {
          "output_type": "stream",
          "name": "stdout",
          "text": [
            "KNN accuracy:  0.9971111492477547\n",
            "\n",
            "               precision    recall  f1-score   support\n",
            "\n",
            "           0       1.00      1.00      1.00     17502\n",
            "           1       1.00      1.00      1.00     17460\n",
            "\n",
            "    accuracy                           1.00     34962\n",
            "   macro avg       1.00      1.00      1.00     34962\n",
            "weighted avg       1.00      1.00      1.00     34962\n",
            "\n"
          ]
        }
      ]
    },
    {
      "cell_type": "markdown",
      "source": [
        "Decision Tree Classifier"
      ],
      "metadata": {
        "id": "24_2_hzM2Dft"
      }
    },
    {
      "cell_type": "code",
      "source": [
        "dt=DecisionTreeClassifier(random_state=5)\n",
        "dt.fit(x_train,y_train)\n",
        "y_pred=dt.predict(x_test)"
      ],
      "metadata": {
        "id": "z7o4phIu1p8x"
      },
      "execution_count": 20,
      "outputs": []
    },
    {
      "cell_type": "code",
      "source": [
        "confusion_matrix(y_test,y_pred)"
      ],
      "metadata": {
        "colab": {
          "base_uri": "https://localhost:8080/"
        },
        "id": "QVSO9OV52MNw",
        "outputId": "f7fde4a4-b1bf-431c-91c6-aa42774985a9"
      },
      "execution_count": 21,
      "outputs": [
        {
          "output_type": "execute_result",
          "data": {
            "text/plain": [
              "array([[17502,     0],\n",
              "       [    1, 17459]])"
            ]
          },
          "metadata": {},
          "execution_count": 21
        }
      ]
    },
    {
      "cell_type": "code",
      "source": [
        "precision_score(y_test,y_pred)"
      ],
      "metadata": {
        "colab": {
          "base_uri": "https://localhost:8080/"
        },
        "id": "SI87yUdO2ZVP",
        "outputId": "35ead56a-ba57-4059-f1cd-8e6c85c36cc4"
      },
      "execution_count": 22,
      "outputs": [
        {
          "output_type": "execute_result",
          "data": {
            "text/plain": [
              "1.0"
            ]
          },
          "metadata": {},
          "execution_count": 22
        }
      ]
    },
    {
      "cell_type": "code",
      "source": [
        "print(\"Decison Tree Accuracy: \",dt.score(x_test,y_test))\n",
        "print(classification_report(y_test,y_pred))"
      ],
      "metadata": {
        "colab": {
          "base_uri": "https://localhost:8080/"
        },
        "id": "k2ktzmSW3AGc",
        "outputId": "a59bc7d5-6386-4f02-a2eb-6125dfd4d815"
      },
      "execution_count": 23,
      "outputs": [
        {
          "output_type": "stream",
          "name": "stdout",
          "text": [
            "Decison Tree Accuracy:  0.9999713975173045\n",
            "              precision    recall  f1-score   support\n",
            "\n",
            "           0       1.00      1.00      1.00     17502\n",
            "           1       1.00      1.00      1.00     17460\n",
            "\n",
            "    accuracy                           1.00     34962\n",
            "   macro avg       1.00      1.00      1.00     34962\n",
            "weighted avg       1.00      1.00      1.00     34962\n",
            "\n"
          ]
        }
      ]
    },
    {
      "cell_type": "markdown",
      "source": [
        "\n",
        "Random Forest Classifier"
      ],
      "metadata": {
        "id": "XdDq-EZs28n4"
      }
    },
    {
      "cell_type": "code",
      "source": [
        "rf=RandomForestClassifier(random_state=42)\n",
        "rf.fit(x_train,y_train)\n",
        "y_pred=rf.predict(x_test)"
      ],
      "metadata": {
        "id": "m82v7GC32eOu"
      },
      "execution_count": 24,
      "outputs": []
    },
    {
      "cell_type": "code",
      "source": [
        "confusion_matrix(y_test,y_pred)"
      ],
      "metadata": {
        "colab": {
          "base_uri": "https://localhost:8080/"
        },
        "id": "kjPyaSnu31bl",
        "outputId": "ccad07d4-2af5-4ec5-84e1-9fe353f1a0d2"
      },
      "execution_count": 25,
      "outputs": [
        {
          "output_type": "execute_result",
          "data": {
            "text/plain": [
              "array([[17501,     1],\n",
              "       [    1, 17459]])"
            ]
          },
          "metadata": {},
          "execution_count": 25
        }
      ]
    },
    {
      "cell_type": "code",
      "source": [
        "precision_score(y_test,y_pred)"
      ],
      "metadata": {
        "colab": {
          "base_uri": "https://localhost:8080/"
        },
        "id": "mj2Idc_P3-WJ",
        "outputId": "505faaff-e193-4421-b03f-bcd108616680"
      },
      "execution_count": 26,
      "outputs": [
        {
          "output_type": "execute_result",
          "data": {
            "text/plain": [
              "0.999942726231386"
            ]
          },
          "metadata": {},
          "execution_count": 26
        }
      ]
    },
    {
      "cell_type": "code",
      "source": [
        "print(\"Random Forest Classifier Accuracy : \", rf.score(x_test,y_test))\n",
        "print(classification_report(y_test,y_pred))"
      ],
      "metadata": {
        "colab": {
          "base_uri": "https://localhost:8080/"
        },
        "id": "Y7Ypo6PU4BGf",
        "outputId": "9ffc7853-5061-45da-f9cf-34aa5841aa6e"
      },
      "execution_count": 27,
      "outputs": [
        {
          "output_type": "stream",
          "name": "stdout",
          "text": [
            "Random Forest Classifier Accuracy :  0.999942795034609\n",
            "              precision    recall  f1-score   support\n",
            "\n",
            "           0       1.00      1.00      1.00     17502\n",
            "           1       1.00      1.00      1.00     17460\n",
            "\n",
            "    accuracy                           1.00     34962\n",
            "   macro avg       1.00      1.00      1.00     34962\n",
            "weighted avg       1.00      1.00      1.00     34962\n",
            "\n"
          ]
        }
      ]
    }
  ]
}